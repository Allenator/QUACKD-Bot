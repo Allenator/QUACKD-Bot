{
 "cells": [
  {
   "cell_type": "code",
   "execution_count": 29,
   "id": "8bf94a9e",
   "metadata": {},
   "outputs": [],
   "source": [
    "from distutils.command.bdist import show_formats\n",
    "import qiskit\n",
    "from qiskit import QuantumRegister, ClassicalRegister, QuantumCircuit, execute\n",
    "from quantuminspire.qiskit import QI\n",
    "import numpy as np\n",
    "import utils as u"
   ]
  },
  {
   "cell_type": "code",
   "execution_count": 30,
   "id": "120fc0e6",
   "metadata": {},
   "outputs": [],
   "source": [
    "u.set_auth()"
   ]
  },
  {
   "cell_type": "code",
   "execution_count": 31,
   "id": "b1947ed7",
   "metadata": {},
   "outputs": [],
   "source": [
    "basis_to_bit = {\"Z\" : \"1\", \"X\" : \"0\"}"
   ]
  },
  {
   "cell_type": "code",
   "execution_count": 34,
   "id": "db099ea3",
   "metadata": {},
   "outputs": [],
   "source": [
    "def build_circuit(alice_string, bob_bases, qi_backend, n_shots=1024):\n",
    "    if len(alice_string) != len(bob_bases):\n",
    "        raise IndexError(\n",
    "            \"Length of bit string and length of bases to measure in do not match.\"\n",
    "        )\n",
    "    else:\n",
    "        length = len(alice_string)\n",
    "\n",
    "    circuits = []\n",
    "    final_bit_string = \"\"\n",
    "\n",
    "    for index in range(length):\n",
    "        qr = QuantumRegister(1)\n",
    "        cr = ClassicalRegister(1)\n",
    "        circuit = QuantumCircuit(qr, cr)\n",
    "        bit = alice_string[index]\n",
    "        basis = bob_bases[index]\n",
    "\n",
    "        # Step 1: Initialize qubits according to Alice's bit string\n",
    "        if bit == \"0\":  # if the bit is 0\n",
    "            circuit.i(qr[0])  # we initialize the qubit in the |0> state\n",
    "        elif bit == \"1\":  # if the bit is 1\n",
    "            circuit.h(qr[0])  # we initialize the qubit in the |+> state\n",
    "\n",
    "        # Step 2: Measure qubits in Bob's chosen bases\n",
    "        if basis.upper() == \"Z\":  # if Bob picks the Z basis,\n",
    "            circuit.i(qr[0])  # we stay in the Z basis\n",
    "        elif basis.upper() == \"X\":  # if Bob picks the X basis,\n",
    "            circuit.h(qr[0])  # we apply a Hadamard gate so that the measurement will be in the Z basis\n",
    "        circuit.measure(qr, cr)\n",
    "\n",
    "        # Step 3: run the circuits on the Quantum Inspire backend and compile the results\n",
    "        qi_job = execute(circuit, backend=qi_backend, shots=n_shots)\n",
    "        qi_result = qi_job.result()\n",
    "        histogram = qi_result.get_counts(circuit)\n",
    "\n",
    "        # print(histogram)\n",
    "\n",
    "        # num_0 counts eigvl = 1\n",
    "        # num_1 counts eigvl = -1\n",
    "        num_0, num_1 = 0, 0 \n",
    "\n",
    "        if \"0\" in histogram.keys():\n",
    "            num_0 = histogram[\"0\"]\n",
    "        if \"1\" in histogram.keys():\n",
    "            num_1 = histogram[\"1\"]\n",
    "\n",
    "        # print(f\"num_0:\\t{num_0}\\nnum_1:\\t{num_1}\\n\")\n",
    "\n",
    "        if num_0 >= num_1:\n",
    "            # we take majority rule, state collapses to +1 eigenvalue of the measurement basis\n",
    "            # or equal amount of 0 and 1 measurement results, result is indeterminate\n",
    "            bit = \"n\"  # bit is indeterminate\n",
    "        else:\n",
    "            # we take majority rule, state collapses to -1 eigenvalue of the measurement basis\n",
    "            bit = basis_to_bit[basis.upper()]\n",
    "\n",
    "        final_bit_string += bit\n",
    "        circuits.append(circuit)\n",
    "\n",
    "    return final_bit_string, circuits\n"
   ]
  },
  {
   "cell_type": "code",
   "execution_count": 35,
   "id": "ea1c5c90",
   "metadata": {},
   "outputs": [
    {
     "data": {
      "text/plain": [
       "'10nn'"
      ]
     },
     "execution_count": 35,
     "metadata": {},
     "output_type": "execute_result"
    }
   ],
   "source": [
    "# QI.get_backend(\"Starmon-5\")\n",
    "final_bit_string, circuits = build_circuit(\"1001\", [\"Z\", \"X\", \"X\", \"X\"], QI.get_backend(\"QX single-node simulator\"))\n",
    "final_bit_string"
   ]
  },
  {
   "cell_type": "code",
   "execution_count": null,
   "id": "6e0b83a2",
   "metadata": {},
   "outputs": [],
   "source": []
  }
 ],
 "metadata": {
  "kernelspec": {
   "display_name": "Python 3 (ipykernel)",
   "language": "python",
   "name": "python3"
  },
  "language_info": {
   "codemirror_mode": {
    "name": "ipython",
    "version": 3
   },
   "file_extension": ".py",
   "mimetype": "text/x-python",
   "name": "python",
   "nbconvert_exporter": "python",
   "pygments_lexer": "ipython3",
   "version": "3.9.7"
  }
 },
 "nbformat": 4,
 "nbformat_minor": 5
}
