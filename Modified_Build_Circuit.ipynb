{
 "cells": [
  {
   "cell_type": "code",
   "execution_count": 91,
   "id": "6a30f94c",
   "metadata": {},
   "outputs": [],
   "source": [
    "from distutils.command.bdist import show_formats\n",
    "import qiskit\n",
    "from qiskit import QuantumRegister, ClassicalRegister, QuantumCircuit, execute\n",
    "from quantuminspire.qiskit import QI\n",
    "from qiskit.ignis.mitigation.measurement import complete_meas_cal, CompleteMeasFitter\n",
    "\n",
    "from time import time\n",
    "import numpy as np\n",
    "import utils as u\n",
    "import matplotlib.pyplot as plt\n",
    "%matplotlib inline"
   ]
  },
  {
   "cell_type": "code",
   "execution_count": 68,
   "id": "12836089",
   "metadata": {},
   "outputs": [],
   "source": [
    "u.set_auth()"
   ]
  },
  {
   "cell_type": "code",
   "execution_count": 69,
   "id": "595fe936",
   "metadata": {},
   "outputs": [],
   "source": [
    "def create_calibration_matrix(qubits, qubit_list):\n",
    "    \"\"\"\n",
    "    qubits [int]: number of qubits\n",
    "    qubit_list [list] = list/array of qubits indexed into the backend\n",
    "    \"\"\"\n",
    "    # create calibration circuits\n",
    "    qr = QuantumRegister(qubits)\n",
    "    meas_calibs, state_labels = complete_meas_cal(qubit_list=qubit_list, qr=qr, circlabel='cal')\n",
    "    # create calibration matrix by running calibration\n",
    "    backend = QI.get_backend('QX single-node simulator') # replace 'with Starmon-5' later\n",
    "    job = qiskit.execute(meas_calibs, backend=backend, shots=1024)\n",
    "    cal_results = job.result()\n",
    "    meas_fitter = CompleteMeasFitter(cal_results, state_labels, circlabel='cal')\n",
    "    return meas_fitter"
   ]
  },
  {
   "cell_type": "code",
   "execution_count": 70,
   "id": "fa94becb",
   "metadata": {},
   "outputs": [],
   "source": [
    "meas_fitter = create_calibration_matrix(1, [0])"
   ]
  },
  {
   "cell_type": "code",
   "execution_count": 71,
   "id": "2e007f66",
   "metadata": {},
   "outputs": [],
   "source": [
    "def apply_measurement_error_mitigation(meas_fitter, raw_counts):\n",
    "    \"\"\"\n",
    "    meas_fitter [qiskit ignis CompleteMeasFitter object]: calibration matrix fitter\n",
    "    raw_counts [dict]: dictionary of bitstrings with respective counts\n",
    "    \"\"\"\n",
    "    # apply measurement error mitigation via calibration matrix ####\n",
    "    meas_filter = meas_fitter.filter\n",
    "    mitigated_results = meas_filter.apply(raw_counts)\n",
    "    return mitigated_results"
   ]
  },
  {
   "cell_type": "code",
   "execution_count": 72,
   "id": "9fcd84aa",
   "metadata": {},
   "outputs": [],
   "source": [
    "basis_to_bit = {\"Z\" : \"1\", \"X\" : \"0\"}"
   ]
  },
  {
   "cell_type": "code",
   "execution_count": 73,
   "id": "588bcebd",
   "metadata": {},
   "outputs": [],
   "source": [
    "def build_circuit(alice_string, bob_bases, qi_backend, n_shots=1024, meas_err_mitig=False):\n",
    "    if len(alice_string) != len(bob_bases):\n",
    "        raise IndexError(\n",
    "            \"Length of bit string and length of bases to measure in do not match.\"\n",
    "        )\n",
    "    else:\n",
    "        length = len(alice_string)\n",
    "\n",
    "    circuits = []\n",
    "    known_indices = []\n",
    "    final_bit_string = \"\"\n",
    "\n",
    "    for index in range(length):\n",
    "        qr = QuantumRegister(1)\n",
    "        cr = ClassicalRegister(1)\n",
    "        circuit = QuantumCircuit(qr, cr)\n",
    "        bit = alice_string[index]\n",
    "        basis = bob_bases[index]\n",
    "\n",
    "        # Step 1: Initialize qubits according to Alice's bit string\n",
    "        if bit == \"0\":  # if the bit is 0\n",
    "            circuit.i(qr[0])  # we initialize the qubit in the |0> state\n",
    "        elif bit == \"1\":  # if the bit is 1\n",
    "            circuit.h(qr[0])  # we initialize the qubit in the |+> state\n",
    "\n",
    "        # Step 2: Measure qubits in Bob's chosen bases\n",
    "        if basis.upper() == \"Z\":  # if Bob picks the Z basis,\n",
    "            circuit.i(qr[0])  # we stay in the Z basis\n",
    "        elif basis.upper() == \"X\":  # if Bob picks the X basis,\n",
    "            circuit.h(qr[0])  # we apply a Hadamard gate so that the measurement will be in the Z basis\n",
    "        circuit.measure(qr, cr)\n",
    "\n",
    "        # Step 3: run the circuits on the Quantum Inspire backend and compile the results\n",
    "        qi_job = execute(circuit, backend=qi_backend, shots=n_shots)\n",
    "        qi_result = qi_job.result()\n",
    "        histogram = qi_result.get_counts(circuit)\n",
    "        if meas_err_mitig:\n",
    "            histogram = apply_measurement_error_mitigation(meas_fitter, histogram)\n",
    "\n",
    "        # print(histogram)\n",
    "\n",
    "        # num_0 counts eigvl = 1\n",
    "        # num_1 counts eigvl = -1\n",
    "        num_0, num_1 = 0, 0 \n",
    "\n",
    "        if \"0\" in histogram.keys():\n",
    "            num_0 = histogram[\"0\"]\n",
    "        if \"1\" in histogram.keys():\n",
    "            num_1 = histogram[\"1\"]\n",
    "\n",
    "        # print(f\"num_0:\\t{num_0}\\nnum_1:\\t{num_1}\\n\")\n",
    "\n",
    "        if num_0 >= num_1:\n",
    "            # we take majority rule, state collapses to +1 eigenvalue of the measurement basis\n",
    "            # or equal amount of 0 and 1 measurement results, result is indeterminate\n",
    "            bit = \"n\"  # bit is indeterminate\n",
    "        else:\n",
    "            # we take majority rule, state collapses to -1 eigenvalue of the measurement basis\n",
    "            bit = basis_to_bit[basis.upper()]\n",
    "            # this index with eigvl = -1 gives a determined bit that we append to known_indices\n",
    "            known_indices.append(index)\n",
    "            \n",
    "        final_bit_string += bit\n",
    "        circuits.append(circuit)\n",
    "\n",
    "    return final_bit_string, known_indices, circuits\n",
    "\n",
    "def get_secure_key_alice(alice_string, known_indices):\n",
    "    secure_key = \"\"\n",
    "    for index in known_indices:\n",
    "        bit = alice_string[index]\n",
    "        secure_key += bit\n",
    "    return secure_key\n",
    "\n",
    "def get_secure_key_bob(final_bit_string, known_indices):\n",
    "    secure_key = \"\"\n",
    "    for index in known_indices:\n",
    "        bit = final_bit_string[index]\n",
    "        secure_key += bit\n",
    "    return secure_key\n"
   ]
  },
  {
   "cell_type": "code",
   "execution_count": 127,
   "id": "feeafd2b",
   "metadata": {},
   "outputs": [
    {
     "name": "stdout",
     "output_type": "stream",
     "text": [
      "1 0 1 1 1 0 1 0 0 1 0 0 0 0 1 1 0 1 0 0 1 0 0 0 0 0 0 1 1 1 0 1 0 0 1 0 1 1 0 0\n",
      "X X Z Z Z X X X Z Z Z X X Z X Z X Z Z Z Z X X Z X X Z Z X Z Z X X Z Z X Z X X X\n",
      "n 0 n 1 1 0 n n n n n n n n n 1 n n n n 1 0 n n n n n n n 1 n n n n 1 0 n n n 0\n",
      "\n",
      "Elapsed Time: 228.59 seconds\n"
     ]
    }
   ],
   "source": [
    "# QI.get_backend(\"Starmon-5\")\n",
    "# QI.get_backend(\"QX single-node simulator\")\n",
    "N = 40\n",
    "\n",
    "initial_bit_string = np.random.choice([\"0\", \"1\"], N)\n",
    "bases = np.random.choice([\"X\", \"Z\"], N)\n",
    "\n",
    "print(\" \".join(initial_bit_string))\n",
    "print(\" \".join(bases))\n",
    "\n",
    "start = time()\n",
    "\n",
    "final_bit_string, known_indices, circuits = build_circuit(initial_bit_string, bases, QI.get_backend(\"QX single-node simulator\"), n_shots=16, meas_err_mitig=True)\n",
    "\n",
    "finish = time()\n",
    "\n",
    "print(\" \".join(final_bit_string))\n",
    "\n",
    "print(f\"\\nElapsed Time: {np.round(finish - start, 2)} seconds\")"
   ]
  },
  {
   "cell_type": "code",
   "execution_count": 128,
   "id": "721a05e5",
   "metadata": {
    "scrolled": true
   },
   "outputs": [
    {
     "data": {
      "text/plain": [
       "array(['0', '1', '1', '0', '1', '1', '0', '1', '1', '0', '0'], dtype='<U1')"
      ]
     },
     "execution_count": 128,
     "metadata": {},
     "output_type": "execute_result"
    }
   ],
   "source": [
    "initial_bit_string[known_indices]"
   ]
  },
  {
   "cell_type": "code",
   "execution_count": 129,
   "id": "8945262b",
   "metadata": {},
   "outputs": [
    {
     "data": {
      "text/plain": [
       "('01101101100', '01101101100')"
      ]
     },
     "execution_count": 129,
     "metadata": {},
     "output_type": "execute_result"
    }
   ],
   "source": [
    "secure_key_alice = get_secure_key_alice(initial_bit_string, known_indices)\n",
    "secure_key_bob = get_secure_key_bob(final_bit_string, known_indices)\n",
    "secure_key_alice, secure_key_bob"
   ]
  },
  {
   "cell_type": "code",
   "execution_count": 130,
   "id": "2fce41da",
   "metadata": {},
   "outputs": [],
   "source": [
    "sent_digits = list(secure_key_alice)\n",
    "corrected_digits = list(secure_key_bob)"
   ]
  },
  {
   "cell_type": "code",
   "execution_count": 131,
   "id": "b5c9b703",
   "metadata": {},
   "outputs": [],
   "source": [
    "\"\"\"\n",
    "block size k(i, Q) as a function of the iteration number i and the quantum bit error rate Q:\n",
    "k(1, Q) = 0.73 / Q\n",
    "k(i + 1, Q) = 2 * k(i, Q)\n",
    "\"\"\"\n",
    "N = len(sent_digits)\n",
    "Q = 0.1 # np.sum(np.array(sent_digits) == np.array(corrected_digits)) / N"
   ]
  },
  {
   "cell_type": "code",
   "execution_count": 132,
   "id": "d302ffeb",
   "metadata": {},
   "outputs": [],
   "source": [
    "#################### ------------ ####################\n",
    "#################### BINARY SPLIT ####################\n",
    "#################### ------------ ####################\n",
    "\n",
    "# count parity\n",
    "def parity(block):\n",
    "    # return np.count_nonzero(block == \"1\") % 2\n",
    "    return block.count(\"1\") % 2\n",
    "\n",
    "\n",
    "# binary split and correct odd parities\n",
    "def bin_split(si = 0, fi = N, parity_cnt = 1):\n",
    "    if fi < N:\n",
    "        block_a = sent_digits[si : fi]\n",
    "        block_b = corrected_digits[si : fi]\n",
    "    else:\n",
    "        block_a = sent_digits[si : N - 1] + [sent_digits[N - 1]]\n",
    "        block_b = corrected_digits[si : N - 1] + [corrected_digits[N - 1]]\n",
    "\n",
    "    # print(parity_cnt)\n",
    "    # print(block_a)\n",
    "    # print(block_b)\n",
    "    if parity(block_a) != parity(block_b):\n",
    "        if fi - si == 1:\n",
    "            # \"0\" -> \"1\" and \"1\" -> \"0\"\n",
    "            corrected_digits[si] = str(1 - int(corrected_digits[si]))\n",
    "            return parity_cnt\n",
    "        else:\n",
    "            # right block bigger\n",
    "            mid = si + (fi - si) // 2\n",
    "            return bin_split(si, mid, parity_cnt + 1) + bin_split(mid, fi, parity_cnt + 1)\n",
    "    else:\n",
    "        return 1\n"
   ]
  },
  {
   "cell_type": "code",
   "execution_count": 133,
   "id": "2bc7eabf",
   "metadata": {},
   "outputs": [],
   "source": [
    "#################### ------- ####################\n",
    "#################### SHUFFLE ####################\n",
    "#################### ------- ####################\n",
    "import random\n",
    "\n",
    "\n",
    "def getperm(iter_n, block):\n",
    "    random.seed(iter_n)\n",
    "    perm = list(range(len(block)))\n",
    "    random.shuffle(perm)\n",
    "    random.seed()  # optional, in order to not impact other code based on random\n",
    "    return perm\n",
    "\n",
    "\n",
    "def shuffle(iter_n, block):\n",
    "    perm = getperm(iter_n, block)\n",
    "    block[:] = [block[j] for j in perm]\n",
    "\n",
    "\n",
    "def unshuffle(iter_n, block):\n",
    "    perm = getperm(iter_n, block)\n",
    "    res = [None] * len(block)\n",
    "    for i, j in enumerate(perm):\n",
    "        res[j] = block[i]\n",
    "    block[:] = res"
   ]
  },
  {
   "cell_type": "code",
   "execution_count": 134,
   "id": "1a9bf172",
   "metadata": {},
   "outputs": [],
   "source": [
    "#################### ------- ####################\n",
    "#################### CASCADE ####################\n",
    "#################### ------- ####################\n",
    "parity_checks = [0]\n",
    "block_sizes = []\n",
    "\n",
    "# shuffle, binary split blocks, unshuffle\n",
    "def cascade(iter_n):\n",
    "\n",
    "    k = min(int(0.73 / Q * 2 ** iter_n), N)\n",
    "    print(\"Block Size:\", k)\n",
    "    block_sizes.append(k)\n",
    "\n",
    "    shuffle(iter_n, sent_digits)\n",
    "    shuffle(iter_n, corrected_digits)\n",
    "\n",
    "    # binary split blocks and count parity checks\n",
    "    iter_n_parity_checks = 0\n",
    "    for i in range(0, N, k):\n",
    "        if i + k <= N:\n",
    "            iter_n_parity_checks += bin_split(i, i + k)\n",
    "        else:\n",
    "            iter_n_parity_checks += bin_split(i, N)\n",
    "\n",
    "    # print(\"Parity Checks:\", iter_n_parity_checks)\n",
    "    parity_checks.append(parity_checks[-1] + iter_n_parity_checks)\n",
    "    # print(\"Cumulative Parity Checks:\", parity_checks[-1])\n",
    "\n",
    "    unshuffle(iter_n, sent_digits)\n",
    "    unshuffle(iter_n, corrected_digits)"
   ]
  },
  {
   "cell_type": "code",
   "execution_count": 135,
   "id": "01bc0fdb",
   "metadata": {},
   "outputs": [
    {
     "name": "stdout",
     "output_type": "stream",
     "text": [
      "\n",
      "----------Testing Cascade 0----------\n",
      "Block Size: 7\n",
      "Error Rate: 0.0\n",
      "Parity Checks: 2\n",
      "\n",
      "----------Testing Cascade 1----------\n",
      "Block Size: 11\n",
      "Error Rate: 0.0\n",
      "Parity Checks: 3\n",
      "\n",
      "----------Testing Cascade 2----------\n",
      "Block Size: 11\n",
      "Error Rate: 0.0\n",
      "Parity Checks: 4\n",
      "\n",
      "----------Testing Cascade 3----------\n",
      "Block Size: 11\n",
      "Error Rate: 0.0\n",
      "Parity Checks: 5\n",
      "\n",
      "----------Testing Cascade 4----------\n",
      "Block Size: 11\n",
      "Error Rate: 0.0\n",
      "Parity Checks: 6\n",
      "\n",
      "----------Final Results----------\n",
      "Final Block Size: 11\n",
      "Final Error Rate: 0.0\n",
      "Final Parity Checks: 6\n",
      "Final Parity Check Rate: 0.5454545454545454\n"
     ]
    }
   ],
   "source": [
    "errors = [Q]\n",
    "for c in range(5):\n",
    "    print()\n",
    "    print(\"----------Testing Cascade \" + str(c) + \"----------\")\n",
    "    cascade(c)\n",
    "    # print(\"S:\", sent_digits)\n",
    "    # print(\"C:\", corrected_digits)\n",
    "    error = np.mean(np.array(sent_digits) != np.array(corrected_digits))\n",
    "    print(\"Error Rate:\", error)\n",
    "    print(\"Parity Checks:\", parity_checks[-1])\n",
    "    errors.append(error)\n",
    "\n",
    "print(\"\\n----------Final Results----------\")\n",
    "print(\"Final Block Size:\", block_sizes[-1])\n",
    "print(\"Final Error Rate:\", errors[-1])\n",
    "print(\"Final Parity Checks:\", parity_checks[-1])\n",
    "print(\"Final Parity Check Rate:\", parity_checks[-1] / N)"
   ]
  },
  {
   "cell_type": "code",
   "execution_count": 136,
   "id": "340b041a",
   "metadata": {},
   "outputs": [
    {
     "data": {
      "image/png": "[encoded data removed]",
      "text/plain": [
       "<Figure size 432x288 with 1 Axes>"
      ]
     },
     "metadata": {
      "needs_background": "light"
     },
     "output_type": "display_data"
    }
   ],
   "source": [
    "# Error Rate plot\n",
    "plt.title(\"Error Rate Over Iterations\")\n",
    "plt.xlabel(\"Iterations\")\n",
    "plt.ylabel(\"Error Rate\")\n",
    "plt.plot(np.arange(len(errors)), errors)\n",
    "plt.show()"
   ]
  },
  {
   "cell_type": "code",
   "execution_count": 137,
   "id": "a8a9227f",
   "metadata": {},
   "outputs": [
    {
     "data": {
      "image/png": "[encoded data removed]",
      "text/plain": [
       "<Figure size 432x288 with 1 Axes>"
      ]
     },
     "metadata": {
      "needs_background": "light"
     },
     "output_type": "display_data"
    }
   ],
   "source": [
    "# Block Size plot\n",
    "plt.title(\"Block Sizes Over Iterations\")\n",
    "plt.xlabel(\"Iterations\")\n",
    "plt.ylabel(\"Block Size\")\n",
    "plt.plot(np.arange(len(block_sizes)), block_sizes)\n",
    "plt.show()"
   ]
  },
  {
   "cell_type": "code",
   "execution_count": 138,
   "id": "5fda46da",
   "metadata": {},
   "outputs": [
    {
     "data": {
      "image/png": "[encoded data removed]",
      "text/plain": [
       "<Figure size 432x288 with 1 Axes>"
      ]
     },
     "metadata": {
      "needs_background": "light"
     },
     "output_type": "display_data"
    }
   ],
   "source": [
    "# Parity Check plot\n",
    "plt.title(\"Parity Checks Over Iterations\")\n",
    "plt.xlabel(\"Iterations\")\n",
    "plt.ylabel(\"Parity Checks\")\n",
    "plt.plot(np.arange(len(parity_checks)), parity_checks)\n",
    "plt.show()"
   ]
  },
  {
   "cell_type": "code",
   "execution_count": null,
   "id": "713c4a20",
   "metadata": {},
   "outputs": [],
   "source": []
  }
 ],
 "metadata": {
  "kernelspec": {
   "display_name": "Python 3 (ipykernel)",
   "language": "python",
   "name": "python3"
  },
  "language_info": {
   "codemirror_mode": {
    "name": "ipython",
    "version": 3
   },
   "file_extension": ".py",
   "mimetype": "text/x-python",
   "name": "python",
   "nbconvert_exporter": "python",
   "pygments_lexer": "ipython3",
   "version": "3.9.7"
  }
 },
 "nbformat": 4,
 "nbformat_minor": 5
}
