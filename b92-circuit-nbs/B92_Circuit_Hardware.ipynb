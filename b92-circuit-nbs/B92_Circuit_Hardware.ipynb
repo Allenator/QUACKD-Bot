{
 "cells": [
  {
   "cell_type": "markdown",
   "id": "62883ddd",
   "metadata": {},
   "source": [
    "### Import Packages and Set Credentials"
   ]
  },
  {
   "cell_type": "code",
   "execution_count": 49,
   "id": "9e754615",
   "metadata": {},
   "outputs": [],
   "source": [
    "from distutils.command.bdist import show_formats\n",
    "import qiskit\n",
    "from qiskit import QuantumRegister, ClassicalRegister, QuantumCircuit, execute\n",
    "from quantuminspire.qiskit import QI\n",
    "from qiskit.ignis.mitigation.measurement import complete_meas_cal, CompleteMeasFitter\n",
    "from qiskit.visualization import plot_histogram \n",
    "\n",
    "from time import time\n",
    "import numpy as np\n",
    "import matplotlib.pyplot as plt\n",
    "%matplotlib inline"
   ]
  },
  {
   "cell_type": "code",
   "execution_count": 3,
   "id": "58725e86",
   "metadata": {},
   "outputs": [],
   "source": [
    "import sys\n",
    "\n",
    "sys.path.append('../quackd')\n",
    "\n",
    "import utils as u\n",
    "\n",
    "u.set_qi_auth(\"../credentials/auth.json\")"
   ]
  },
  {
   "cell_type": "markdown",
   "id": "ca3f889f",
   "metadata": {},
   "source": [
    "### Calibration Matrices for Spin-2 and Starmon-5 Backends"
   ]
  },
  {
   "cell_type": "code",
   "execution_count": 4,
   "id": "fb332a16",
   "metadata": {},
   "outputs": [],
   "source": [
    "def create_calibration_matrix(qubits, qubit_list, backend = QI.get_backend('QX single-node simulator')):\n",
    "    \"\"\"\n",
    "    qubits [int]: number of qubits\n",
    "    qubit_list [list] = list/array of qubits indexed into the backend\n",
    "    \"\"\"\n",
    "    # create calibration circuits\n",
    "    qr = QuantumRegister(qubits)\n",
    "    meas_calibs, state_labels = complete_meas_cal(qubit_list=qubit_list, qr=qr, circlabel=\"cal\")\n",
    "    # create calibration matrix by running calibration\n",
    "    job = qiskit.execute(meas_calibs, backend=backend, shots=1024)\n",
    "    cal_results = job.result()\n",
    "    meas_fitter = CompleteMeasFitter(cal_results, state_labels, circlabel=\"cal\")\n",
    "    return meas_fitter"
   ]
  },
  {
   "cell_type": "code",
   "execution_count": 6,
   "id": "80c1dd04",
   "metadata": {},
   "outputs": [
    {
     "name": "stdout",
     "output_type": "stream",
     "text": [
      "\n",
      "Elapsed Time: 104.32 seconds\n"
     ]
    }
   ],
   "source": [
    "start_meas_fitter_spin2 = time()\n",
    "\n",
    "meas_fitter_spin2 = [create_calibration_matrix(2, [i], backend = QI.get_backend(\"Spin-2\")) for i in range(2)]\n",
    "\n",
    "finish_meas_fitter_spin2 = time()\n",
    "\n",
    "print(f\"\\nElapsed Time: {np.round(finish_meas_fitter_spin2 - start_meas_fitter_spin2, 2)} seconds\")"
   ]
  },
  {
   "cell_type": "code",
   "execution_count": 5,
   "id": "affd7b3e",
   "metadata": {},
   "outputs": [
    {
     "name": "stdout",
     "output_type": "stream",
     "text": [
      "\n",
      "Elapsed Time: 1639.05 seconds\n"
     ]
    }
   ],
   "source": [
    "start_meas_fitter_starmon = time()\n",
    "\n",
    "meas_fitter_starmon = [create_calibration_matrix(5, [i], backend = QI.get_backend(\"Starmon-5\")) for i in range(5)]\n",
    "\n",
    "finish_meas_fitter_starmon = time()\n",
    "\n",
    "print(f\"\\nElapsed Time: {np.round(finish_meas_fitter_starmon - start_meas_fitter_starmon, 2)} seconds\")"
   ]
  },
  {
   "cell_type": "code",
   "execution_count": 7,
   "id": "ee56c31f",
   "metadata": {},
   "outputs": [],
   "source": [
    "def apply_measurement_error_mitigation(meas_fitter, raw_counts):\n",
    "    \"\"\"\n",
    "    meas_fitter [qiskit ignis CompleteMeasFitter object]: calibration matrix fitter\n",
    "    raw_counts [dict]: dictionary of bitstrings with respective counts\n",
    "    \"\"\"\n",
    "    # apply measurement error mitigation via calibration matrix ####\n",
    "    meas_filter = meas_fitter.filter\n",
    "    mitigated_results = meas_filter.apply(raw_counts)\n",
    "    return mitigated_results"
   ]
  },
  {
   "cell_type": "markdown",
   "id": "6e7e7d82",
   "metadata": {},
   "source": [
    "### Build B92 Circuit"
   ]
  },
  {
   "cell_type": "code",
   "execution_count": 8,
   "id": "673be54a",
   "metadata": {},
   "outputs": [],
   "source": [
    "basis_to_bit = {\"Z\" : \"1\", \"X\" : \"0\"}"
   ]
  },
  {
   "cell_type": "code",
   "execution_count": 10,
   "id": "9a70d31b",
   "metadata": {},
   "outputs": [],
   "source": [
    "def build_circuit_n(\n",
    "    alice_string,\n",
    "    bob_bases,\n",
    "    qi_backend,\n",
    "    n_shots=1024,\n",
    "    meas_err_mitig=False,\n",
    "    meas_fitter=meas_fitter_spin2,\n",
    "    n=2,\n",
    "):\n",
    "    if len(alice_string) != len(bob_bases):\n",
    "        raise IndexError(\n",
    "            \"Length of bit string and length of bases to measure in do not match.\"\n",
    "        )\n",
    "    else:\n",
    "        length = len(alice_string)\n",
    "\n",
    "    circuits = []\n",
    "    known_indices = []\n",
    "    final_bit_string = \"\"\n",
    "\n",
    "    for index in range(0, length, n):\n",
    "        reg_len = n\n",
    "        if length - index < n:\n",
    "            reg_len = length - index\n",
    "\n",
    "        qr = QuantumRegister(reg_len)\n",
    "        circuit = QuantumCircuit(qr)\n",
    "        bits = alice_string[index : index + reg_len]\n",
    "        bases = bob_bases[index : index + reg_len]\n",
    "        # print(\"bits:\", bits)\n",
    "        # print(\"bases:\", bases)\n",
    "\n",
    "        # Step 1: Initialize qubits according to Alice's bit string\n",
    "        for r in range(reg_len):\n",
    "            bit = bits[r]\n",
    "\n",
    "            if bit == \"0\":  # if the bit is 0\n",
    "                circuit.i(qr[r])  # we initialize the qubit in the |0> state\n",
    "            elif bit == \"1\":  # if the bit is 1\n",
    "                circuit.h(qr[r])  # we initialize the qubit in the |+> state\n",
    "\n",
    "        # Step 2: Measure qubits in Bob's chosen bases\n",
    "        for r in range(reg_len):\n",
    "            basis = bases[r]\n",
    "\n",
    "            if basis.upper() == \"Z\":  # if Bob picks the Z basis,\n",
    "                circuit.i(qr[r])  # we stay in the Z basis\n",
    "            elif basis.upper() == \"X\":  # if Bob picks the X basis,\n",
    "                circuit.h(\n",
    "                    qr[r]\n",
    "                )  # we apply a Hadamard gate so that the measurement will be in the Z basis\n",
    "\n",
    "        circuit.measure_all()\n",
    "        circuits.append(circuit)\n",
    "\n",
    "    # Step 3: run the circuits on the Quantum Inspire backend and compile the results\n",
    "    qi_job = execute(circuits, backend=qi_backend, shots=n_shots)\n",
    "    qi_result = qi_job.result()\n",
    "\n",
    "    # Step 4: collect bits based on measurement results\n",
    "    for index in range(0, length, n):\n",
    "        reg_len = n\n",
    "        if length - index < n:\n",
    "            reg_len = length - index\n",
    "\n",
    "        bases = bob_bases[index : index + reg_len]\n",
    "        bits = alice_string[index : index + reg_len]\n",
    "        circuit = circuits[index // n]\n",
    "        histogram = qi_result.get_counts(circuit)\n",
    "        # print(histogram)\n",
    "\n",
    "        for r in range(reg_len):\n",
    "\n",
    "            eigvl_cnts = {\"0\": 0, \"1\": 0}\n",
    "\n",
    "            for key in histogram.keys():\n",
    "                eigvl_cnts[key[reg_len - 1 - r]] += histogram[key]\n",
    "\n",
    "            # print(eigvl_cnts)\n",
    "            all_noisy_counts.append(eigvl_cnts)\n",
    "            # apply measurement error mitigation\n",
    "            if meas_err_mitig:\n",
    "                eigvl_cnts = apply_measurement_error_mitigation(\n",
    "                    meas_fitter[r], eigvl_cnts\n",
    "                )\n",
    "\n",
    "            # print(eigvl_cnts)\n",
    "            # handle cases where mitigation removes a key\n",
    "            if \"0\" not in eigvl_cnts.keys():\n",
    "                eigvl_cnts[\"0\"] = 0\n",
    "            if \"1\" not in eigvl_cnts.keys():\n",
    "                eigvl_cnts[\"1\"] = 0\n",
    "\n",
    "            all_mitigated_counts.append(eigvl_cnts)\n",
    "\n",
    "            if eigvl_cnts[\"1\"] >= 0.35 * n_shots:\n",
    "                # state collapses to -1 eigenvalue of the measurement basis\n",
    "                basis = bases[r]\n",
    "                bit = basis_to_bit[basis.upper()]\n",
    "                # this index with eigvl = -1 gives a determined bit that we append to known_indices\n",
    "                known_indices.append(index + r)\n",
    "\n",
    "            else:\n",
    "                # state collapses to +1 eigenvalue of the measurement basis\n",
    "                # or equal amount of 0 and 1 measurement results, result is indeterminate\n",
    "                bit = \"n\"  # bit is indeterminate\n",
    "\n",
    "            final_bit_string += bit\n",
    "\n",
    "    return final_bit_string, known_indices, circuits"
   ]
  },
  {
   "cell_type": "markdown",
   "id": "bbb9da93",
   "metadata": {},
   "source": [
    "### Use B92 Circuit with Spin-2 Backend"
   ]
  },
  {
   "cell_type": "code",
   "execution_count": 53,
   "id": "95b5ea0a",
   "metadata": {
    "scrolled": true
   },
   "outputs": [
    {
     "name": "stdout",
     "output_type": "stream",
     "text": [
      "0 0 0 1 1 0 1 0 1 0 1 1 1 1 1 1 0 1 1 1\n",
      "X X Z Z Z Z Z X Z X Z Z X Z Z X Z X X X\n",
      "0 0 n 1 1 n 1 0 1 0 1 1 n 1 1 0 n n n n\n",
      "\n",
      "Elapsed Time: 242.26 seconds\n"
     ]
    }
   ],
   "source": [
    "all_noisy_counts = []\n",
    "all_mitigated_counts = []\n",
    "N_spin2 = 20\n",
    "\n",
    "initial_bit_string_2 = np.random.choice([\"0\", \"1\"], N_spin2)\n",
    "bases_2 = np.random.choice([\"X\", \"Z\"], N_spin2)\n",
    "\n",
    "print(\" \".join(initial_bit_string_2))\n",
    "print(\" \".join(bases_2))\n",
    "\n",
    "start_2 = time()\n",
    "\n",
    "final_bit_string_2, known_indices_2, circuits_2 = build_circuit_n(\n",
    "    initial_bit_string_2,\n",
    "    bases_2,\n",
    "    QI.get_backend(\"Spin-2\"),\n",
    "    n_shots=1000,\n",
    "    meas_err_mitig=True,\n",
    ")\n",
    "\n",
    "finish_2 = time()\n",
    "\n",
    "# print(\" \".join(initial_bit_string_2))\n",
    "# print(\" \".join(bases_2))\n",
    "print(\" \".join(final_bit_string_2))\n",
    "\n",
    "print(f\"\\nElapsed Time: {np.round(finish_2 - start_2, 2)} seconds\")"
   ]
  },
  {
   "cell_type": "code",
   "execution_count": 50,
   "id": "a690a687",
   "metadata": {},
   "outputs": [
    {
     "name": "stdout",
     "output_type": "stream",
     "text": [
      "[[0.79980469 0.13183594]\n",
      " [0.20019531 0.86816406]]\n",
      "[[0.90234375 0.59863281]\n",
      " [0.09765625 0.40136719]]\n"
     ]
    }
   ],
   "source": [
    "for i in range(2):\n",
    "    print(meas_fitter_spin2[i].cal_matrix)"
   ]
  },
  {
   "cell_type": "code",
   "execution_count": 58,
   "id": "79a110bd",
   "metadata": {},
   "outputs": [
    {
     "data": {
      "text/plain": [
       "array([[-930.59807074],\n",
       "       [1930.59807074]])"
      ]
     },
     "execution_count": 58,
     "metadata": {},
     "output_type": "execute_result"
    }
   ],
   "source": [
    "np.linalg.inv(meas_fitter_spin2[1].cal_matrix) @ [[316], [684]]"
   ]
  },
  {
   "cell_type": "code",
   "execution_count": 57,
   "id": "a4106d90",
   "metadata": {},
   "outputs": [
    {
     "data": {
      "text/plain": [
       "{'0': 316, '1': 684}"
      ]
     },
     "execution_count": 57,
     "metadata": {},
     "output_type": "execute_result"
    }
   ],
   "source": [
    "all_noisy_counts[7]"
   ]
  },
  {
   "cell_type": "code",
   "execution_count": 56,
   "id": "771dbe87",
   "metadata": {},
   "outputs": [
    {
     "data": {
      "image/png": "[encoded data removed]",
      "text/plain": [
       "<Figure size 504x360 with 1 Axes>"
      ]
     },
     "execution_count": 56,
     "metadata": {},
     "output_type": "execute_result"
    }
   ],
   "source": [
    "i = 7\n",
    "plot_histogram([all_noisy_counts[i], all_mitigated_counts[i]], legend=['noisy', 'mitigated'])"
   ]
  },
  {
   "cell_type": "markdown",
   "id": "70ab17ea",
   "metadata": {},
   "source": [
    "We see that the measurement error mitigation is quite effective."
   ]
  },
  {
   "cell_type": "markdown",
   "id": "a679374b",
   "metadata": {},
   "source": [
    "### Use B92 Circuit with Starmon-5 Backend"
   ]
  },
  {
   "cell_type": "code",
   "execution_count": 13,
   "id": "1bdd9b01",
   "metadata": {
    "scrolled": true
   },
   "outputs": [
    {
     "name": "stdout",
     "output_type": "stream",
     "text": [
      "1 0 0 1 0 1 1 0 0 1 0 1 0 0 1 0 0 0 0 1 1 1 0 0 1 0 0 1 1 0 1 0 1 1 1 0 0 1 1 1 0 0 1 0 0 1 1 0 0 0 1 1 1 0 1 0 1 1 1 1 0 1 1 1 0 1 0 1 1 0 1 1 0 0 0 1 0 1 0 1 1 1 1 1 1 1 1 1 1 0 0 0 1 0 1 0 0 0 0 0\n",
      "X X X X Z X Z Z Z X Z X Z X X X X X X Z X X Z X Z Z Z Z Z Z X X X X X Z Z Z X X Z Z Z X Z Z Z Z Z Z Z Z X Z X Z Z X Z Z X Z X X Z X X X Z Z Z X Z Z X X Z X Z X Z Z X X X Z X X X X X X X Z Z Z X Z Z Z\n",
      "n 0 0 n n n 1 n n n n n n 0 n 0 0 0 0 1 n n n 0 1 n n 1 1 n n 0 n n n n n 1 n n n n 1 0 n 1 1 n n n 1 1 n n n n 1 n 1 1 0 1 n n n n 0 n 1 n 1 n n n 0 n n n n n 1 1 n n n 1 n n n 0 0 0 n n 1 n 0 n n n\n",
      "\n",
      "Elapsed Time: 1114.22 seconds\n"
     ]
    }
   ],
   "source": [
    "all_noisy_counts = []\n",
    "all_mitigated_counts = []\n",
    "\n",
    "N_starmon = 100\n",
    "\n",
    "initial_bit_string = np.random.choice([\"0\", \"1\"], N_starmon)\n",
    "bases = np.random.choice([\"X\", \"Z\"], N_starmon)\n",
    "\n",
    "print(\" \".join(initial_bit_string))\n",
    "print(\" \".join(bases))\n",
    "\n",
    "start = time()\n",
    "\n",
    "final_bit_string, known_indices, circuits = build_circuit_n(\n",
    "    initial_bit_string,\n",
    "    bases,\n",
    "    QI.get_backend(\"Starmon-5\"),\n",
    "    n_shots=1000,\n",
    "    meas_err_mitig=True,\n",
    "    meas_fitter=meas_fitter_starmon,\n",
    "    n=5\n",
    ")\n",
    "\n",
    "finish = time()\n",
    "\n",
    "#print(\" \".join(initial_bit_string))\n",
    "#print(\" \".join(bases))\n",
    "print(\" \".join(final_bit_string))\n",
    "\n",
    "print(f\"\\nElapsed Time: {np.round(finish - start, 2)} seconds\")"
   ]
  },
  {
   "cell_type": "code",
   "execution_count": 15,
   "id": "c5a6a146",
   "metadata": {},
   "outputs": [
    {
     "name": "stdout",
     "output_type": "stream",
     "text": [
      "[[0.94921875 0.109375  ]\n",
      " [0.05078125 0.890625  ]]\n",
      "[[0.97070312 0.39746094]\n",
      " [0.02929688 0.60253906]]\n",
      "[[0.96972656 0.04980469]\n",
      " [0.03027344 0.95019531]]\n",
      "[[0.96289062 0.11621094]\n",
      " [0.03710938 0.88378906]]\n",
      "[[0.85449219 0.10546875]\n",
      " [0.14550781 0.89453125]]\n"
     ]
    }
   ],
   "source": [
    "for i in range(5):\n",
    "    print(meas_fitter_starmon[i].cal_matrix)"
   ]
  },
  {
   "cell_type": "code",
   "execution_count": 17,
   "id": "74ee276a",
   "metadata": {},
   "outputs": [
    {
     "data": {
      "image/png": "[encoded data removed]",
      "text/plain": [
       "<Figure size 504x360 with 1 Axes>"
      ]
     },
     "execution_count": 17,
     "metadata": {},
     "output_type": "execute_result"
    }
   ],
   "source": [
    "i = 3\n",
    "plot_histogram([all_noisy_counts[i], all_mitigated_counts[i]], legend=['noisy', 'mitigated'])"
   ]
  },
  {
   "cell_type": "markdown",
   "id": "d933e6ad",
   "metadata": {},
   "source": [
    "We see that the measurement error mitigation is effective but not as pronounced as seen in Spin-2. This is because Starmon-5 has higher fidelities, as reflected in the 5 calibration matrices."
   ]
  },
  {
   "cell_type": "markdown",
   "id": "ba2283f4",
   "metadata": {},
   "source": [
    "### Generate Alice and Bob's Keys"
   ]
  },
  {
   "cell_type": "code",
   "execution_count": 11,
   "id": "b3f3ebe4",
   "metadata": {},
   "outputs": [],
   "source": [
    "def get_secure_key_alice(alice_string, known_indices):\n",
    "    secure_key = \"\"\n",
    "    for index in known_indices:\n",
    "        bit = alice_string[index]\n",
    "        secure_key += bit\n",
    "    return secure_key\n",
    "\n",
    "def get_secure_key_bob(final_bit_string, known_indices):\n",
    "    secure_key = \"\"\n",
    "    for index in known_indices:\n",
    "        bit = final_bit_string[index]\n",
    "        secure_key += bit\n",
    "    return secure_key"
   ]
  },
  {
   "cell_type": "code",
   "execution_count": 19,
   "id": "d71c6453",
   "metadata": {},
   "outputs": [
    {
     "name": "stdout",
     "output_type": "stream",
     "text": [
      "00100000101110110111111101011011100010\n",
      "00100000101110110111111101011011100010\n"
     ]
    }
   ],
   "source": [
    "secure_key_alice = get_secure_key_alice(initial_bit_string, known_indices)\n",
    "secure_key_bob = get_secure_key_bob(final_bit_string, known_indices)\n",
    "print(secure_key_alice)\n",
    "print(secure_key_bob)"
   ]
  },
  {
   "cell_type": "markdown",
   "id": "24758a25",
   "metadata": {},
   "source": [
    "### Perform Error Reconciliation on Bob's Key Using Cascade Protocol"
   ]
  },
  {
   "cell_type": "code",
   "execution_count": 20,
   "id": "7e6997b1",
   "metadata": {},
   "outputs": [],
   "source": [
    "sent_digits = list(secure_key_alice)\n",
    "corrected_digits = list(secure_key_bob)"
   ]
  },
  {
   "cell_type": "code",
   "execution_count": 21,
   "id": "ccbd5724",
   "metadata": {},
   "outputs": [],
   "source": [
    "\"\"\"\n",
    "block size k(i, Q) as a function of the iteration number i and the quantum bit error rate Q:\n",
    "k(1, Q) = 0.73 / Q\n",
    "k(i + 1, Q) = 2 * k(i, Q)\n",
    "\"\"\"\n",
    "N = len(sent_digits)\n",
    "Q = np.mean(np.array(sent_digits) != np.array(corrected_digits))"
   ]
  },
  {
   "cell_type": "code",
   "execution_count": 22,
   "id": "fac6fd54",
   "metadata": {},
   "outputs": [],
   "source": [
    "#################### ------------ ####################\n",
    "#################### BINARY SPLIT ####################\n",
    "#################### ------------ ####################\n",
    "\n",
    "# count parity\n",
    "def parity(block):\n",
    "    return block.count(\"1\") % 2\n",
    "\n",
    "\n",
    "# binary split and correct odd parities\n",
    "def bin_split(si = 0, fi = N, parity_cnt = 1):\n",
    "    if fi < N:\n",
    "        block_a = sent_digits[si : fi]\n",
    "        block_b = corrected_digits[si : fi]\n",
    "    else:\n",
    "        block_a = sent_digits[si : N - 1] + [sent_digits[N - 1]]\n",
    "        block_b = corrected_digits[si : N - 1] + [corrected_digits[N - 1]]\n",
    "\n",
    "    # print(parity_cnt)\n",
    "    # print(block_a)\n",
    "    # print(block_b)\n",
    "    if parity(block_a) != parity(block_b):\n",
    "        if fi - si == 1:\n",
    "            # \"0\" -> \"1\" and \"1\" -> \"0\"\n",
    "            corrected_digits[si] = str(1 - int(corrected_digits[si]))\n",
    "            return parity_cnt\n",
    "        else:\n",
    "            # right block bigger\n",
    "            mid = si + (fi - si) // 2\n",
    "            return bin_split(si, mid, parity_cnt + 1) + bin_split(mid, fi, parity_cnt + 1)\n",
    "    else:\n",
    "        return 1\n"
   ]
  },
  {
   "cell_type": "code",
   "execution_count": 23,
   "id": "4a9a8cb3",
   "metadata": {},
   "outputs": [],
   "source": [
    "#################### ------- ####################\n",
    "#################### SHUFFLE ####################\n",
    "#################### ------- ####################\n",
    "import random\n",
    "\n",
    "\n",
    "def getperm(iter_n, block):\n",
    "    random.seed(iter_n)\n",
    "    perm = list(range(len(block)))\n",
    "    random.shuffle(perm)\n",
    "    random.seed()  # optional, in order to not impact other code based on random\n",
    "    return perm\n",
    "\n",
    "\n",
    "def shuffle(iter_n, block):\n",
    "    perm = getperm(iter_n, block)\n",
    "    block[:] = [block[j] for j in perm]\n",
    "\n",
    "\n",
    "def unshuffle(iter_n, block):\n",
    "    perm = getperm(iter_n, block)\n",
    "    res = [None] * len(block)\n",
    "    for i, j in enumerate(perm):\n",
    "        res[j] = block[i]\n",
    "    block[:] = res"
   ]
  },
  {
   "cell_type": "code",
   "execution_count": 24,
   "id": "425f3a98",
   "metadata": {},
   "outputs": [],
   "source": [
    "#################### ------- ####################\n",
    "#################### CASCADE ####################\n",
    "#################### ------- ####################\n",
    "parity_checks = [0]\n",
    "block_sizes = []\n",
    "\n",
    "# shuffle, binary split blocks, unshuffle\n",
    "def cascade(iter_n):\n",
    "    k = N\n",
    "    if Q > 0:\n",
    "        k = min(int(0.73 / Q * 2 ** iter_n), N)\n",
    "    print(\"Block Size:\", k)\n",
    "    block_sizes.append(k)\n",
    "\n",
    "    shuffle(iter_n, sent_digits)\n",
    "    shuffle(iter_n, corrected_digits)\n",
    "\n",
    "    # binary split blocks and count parity checks\n",
    "    iter_n_parity_checks = 0\n",
    "    for i in range(0, N, k):\n",
    "        if i + k <= N:\n",
    "            iter_n_parity_checks += bin_split(i, i + k)\n",
    "        else:\n",
    "            iter_n_parity_checks += bin_split(i, N)\n",
    "\n",
    "    # print(\"Parity Checks:\", iter_n_parity_checks)\n",
    "    parity_checks.append(parity_checks[-1] + iter_n_parity_checks)\n",
    "    # print(\"Cumulative Parity Checks:\", parity_checks[-1])\n",
    "\n",
    "    unshuffle(iter_n, sent_digits)\n",
    "    unshuffle(iter_n, corrected_digits)"
   ]
  },
  {
   "cell_type": "code",
   "execution_count": 25,
   "id": "646b15fb",
   "metadata": {},
   "outputs": [
    {
     "name": "stdout",
     "output_type": "stream",
     "text": [
      "\n",
      "----------Testing Cascade 0----------\n",
      "Block Size: 38\n",
      "Error Rate: 0.0\n",
      "Parity Checks: 1\n",
      "\n",
      "----------Testing Cascade 1----------\n",
      "Block Size: 38\n",
      "Error Rate: 0.0\n",
      "Parity Checks: 2\n",
      "\n",
      "----------Testing Cascade 2----------\n",
      "Block Size: 38\n",
      "Error Rate: 0.0\n",
      "Parity Checks: 3\n",
      "\n",
      "----------Testing Cascade 3----------\n",
      "Block Size: 38\n",
      "Error Rate: 0.0\n",
      "Parity Checks: 4\n",
      "\n",
      "----------Testing Cascade 4----------\n",
      "Block Size: 38\n",
      "Error Rate: 0.0\n",
      "Parity Checks: 5\n",
      "\n",
      "----------Final Results----------\n",
      "Final Block Size: 38\n",
      "Final Error Rate: 0.0\n",
      "Final Parity Checks: 5\n",
      "Final Parity Check Rate: 0.13157894736842105\n"
     ]
    }
   ],
   "source": [
    "errors = [Q]\n",
    "for c in range(5):\n",
    "    print()\n",
    "    print(\"----------Testing Cascade \" + str(c) + \"----------\")\n",
    "    cascade(c)\n",
    "    # print(\"S:\", sent_digits)\n",
    "    # print(\"C:\", corrected_digits)\n",
    "    error = np.mean(np.array(sent_digits) != np.array(corrected_digits))\n",
    "    print(\"Error Rate:\", error)\n",
    "    print(\"Parity Checks:\", parity_checks[-1])\n",
    "    errors.append(error)\n",
    "\n",
    "print(\"\\n----------Final Results----------\")\n",
    "print(\"Final Block Size:\", block_sizes[-1])\n",
    "print(\"Final Error Rate:\", errors[-1])\n",
    "print(\"Final Parity Checks:\", parity_checks[-1])\n",
    "print(\"Final Parity Check Rate:\", parity_checks[-1] / N)"
   ]
  },
  {
   "cell_type": "markdown",
   "id": "9021ae1f",
   "metadata": {},
   "source": [
    "Error Rate Plot"
   ]
  },
  {
   "cell_type": "code",
   "execution_count": 26,
   "id": "961c65b3",
   "metadata": {},
   "outputs": [
    {
     "data": {
      "image/png": "[encoded data removed]",
      "text/plain": [
       "<Figure size 432x288 with 1 Axes>"
      ]
     },
     "metadata": {
      "needs_background": "light"
     },
     "output_type": "display_data"
    }
   ],
   "source": [
    "# Error Rate plot\n",
    "plt.title(\"Error Rate Over Iterations\")\n",
    "plt.xlabel(\"Iterations\")\n",
    "plt.ylabel(\"Error Rate\")\n",
    "plt.plot(np.arange(len(errors)), errors)\n",
    "plt.show()"
   ]
  },
  {
   "cell_type": "markdown",
   "id": "09916e79",
   "metadata": {},
   "source": [
    "Block Size plot"
   ]
  },
  {
   "cell_type": "code",
   "execution_count": 27,
   "id": "f6c6d7b3",
   "metadata": {},
   "outputs": [
    {
     "data": {
      "image/png": "[encoded data removed]",
      "text/plain": [
       "<Figure size 432x288 with 1 Axes>"
      ]
     },
     "metadata": {
      "needs_background": "light"
     },
     "output_type": "display_data"
    }
   ],
   "source": [
    "# Block Size plot\n",
    "plt.title(\"Block Sizes Over Iterations\")\n",
    "plt.xlabel(\"Iterations\")\n",
    "plt.ylabel(\"Block Size\")\n",
    "plt.plot(np.arange(len(block_sizes)), block_sizes)\n",
    "plt.show()"
   ]
  },
  {
   "cell_type": "markdown",
   "id": "6c4b55ec",
   "metadata": {},
   "source": [
    "Parity Check plot"
   ]
  },
  {
   "cell_type": "code",
   "execution_count": 28,
   "id": "40e7a19b",
   "metadata": {},
   "outputs": [
    {
     "data": {
      "image/png": "[encoded data removed]",
      "text/plain": [
       "<Figure size 432x288 with 1 Axes>"
      ]
     },
     "metadata": {
      "needs_background": "light"
     },
     "output_type": "display_data"
    }
   ],
   "source": [
    "# Parity Check plot\n",
    "plt.title(\"Parity Checks Over Iterations\")\n",
    "plt.xlabel(\"Iterations\")\n",
    "plt.ylabel(\"Parity Checks\")\n",
    "plt.plot(np.arange(len(parity_checks)), parity_checks)\n",
    "plt.show()"
   ]
  },
  {
   "cell_type": "markdown",
   "id": "3a20dcbf",
   "metadata": {},
   "source": [
    "### SHA-256 Hash for Randomness Extractor and Encryption Key"
   ]
  },
  {
   "cell_type": "code",
   "execution_count": 47,
   "id": "210a088a",
   "metadata": {},
   "outputs": [
    {
     "name": "stdout",
     "output_type": "stream",
     "text": [
      "\n",
      "----------Hashes----------\n",
      "S encoding len: 256\n",
      "C encoding len: 256\n",
      "S and C hashes match: True\n",
      "corrected_hash 0s: 130\n",
      "corrected_hash 1s: 126\n"
     ]
    }
   ],
   "source": [
    "#################### ---- ####################\n",
    "#################### HASH ####################\n",
    "#################### ---- ####################\n",
    "\n",
    "import hashlib\n",
    "\n",
    "sent_digits_bytes = bytearray(\"\".join(sent_digits), \"utf-8\")\n",
    "corrected_digits_bytes = bytearray(\"\".join(corrected_digits), \"utf-8\")\n",
    "\n",
    "\n",
    "def hextobin(h):\n",
    "    return bin(int(h, 16))[2:].zfill(len(h) * 4)\n",
    "\n",
    "\n",
    "sent_hash = \"\"\n",
    "corrected_hash = \"\"\n",
    "# for i in range(0, N, 256):\n",
    "#     if i + 256 < N:\n",
    "m_sent = hashlib.sha256()\n",
    "m_corrected = hashlib.sha256()\n",
    "\n",
    "m_sent.update(sent_digits_bytes[i : i + 256])\n",
    "m_corrected.update(corrected_digits_bytes[i : i + 256])\n",
    "\n",
    "sent_hash += hextobin(m_sent.hexdigest())\n",
    "corrected_hash += hextobin(m_corrected.hexdigest())\n",
    "\n",
    "print(\"\\n----------Hashes----------\")\n",
    "print(\"S encoding len:\", len(sent_hash))\n",
    "print(\"C encoding len:\", len(corrected_hash))\n",
    "print(\"S and C hashes match:\", sent_hash == corrected_hash)\n",
    "print(\"corrected_hash 0s:\", corrected_hash.count(\"0\"))\n",
    "print(\"corrected_hash 1s:\", corrected_hash.count(\"1\"))\n",
    "with open(\"out_hash.txt\", \"w\") as hash_outfile:\n",
    "    hash_outfile.write(corrected_hash)\n",
    "    hash_outfile.close()\n",
    "\n",
    "B92_KEY = corrected_hash\n",
    "B92_KEY *= 309"
   ]
  },
  {
   "cell_type": "markdown",
   "id": "b1c394f0",
   "metadata": {},
   "source": [
    "We see that SHA-256 was an effective randomness extractor, as the 0 and 1 counts are approximately the same."
   ]
  },
  {
   "cell_type": "markdown",
   "id": "c316425e",
   "metadata": {},
   "source": [
    "### Encode and Decode Mallard Duck Image Using Bob's Corrected Encryption Key"
   ]
  },
  {
   "cell_type": "code",
   "execution_count": 39,
   "id": "f4e021ce",
   "metadata": {},
   "outputs": [],
   "source": [
    "from PIL import Image\n",
    "\n",
    "IMG_FILENAME = \"mallard_pixels.jpeg\"\n",
    "IMG_SHAPE = None"
   ]
  },
  {
   "cell_type": "code",
   "execution_count": 40,
   "id": "23a0ae12",
   "metadata": {},
   "outputs": [],
   "source": [
    "# ord: char to int\n",
    "# chr: int to char\n",
    "def ascii_to_bin(h):\n",
    "    return bin(h)[2:].zfill(8)"
   ]
  },
  {
   "cell_type": "code",
   "execution_count": 41,
   "id": "d8d4d981",
   "metadata": {},
   "outputs": [],
   "source": [
    "def image_filename_to_ascii(filename=IMG_FILENAME):\n",
    "    global IMG_SHAPE\n",
    "    image = Image.open(\"imgs/\" + filename)\n",
    "\n",
    "    # summarize some details about the image\n",
    "    print(image.format)\n",
    "    print(image.size)\n",
    "    print(image.mode)\n",
    "\n",
    "    np_image = np.array(image)\n",
    "    IMG_SHAPE = (image.size[1], image.size[0], 3)\n",
    "    print(\"np_image shape:\", np_image.shape)\n",
    "    # print(np_image)\n",
    "    plt.imshow(np_image, interpolation=\"nearest\")\n",
    "    plt.show()\n",
    "\n",
    "    np_image_flat = np.reshape(np_image, (np.prod(np_image.shape),))\n",
    "    print(\"np_image_flat shape:\", np_image_flat.shape)\n",
    "    # print(np_image_flat)\n",
    "    np_image_flat_ascii = \"\".join([ascii_to_bin(rgb) for rgb in np_image_flat])\n",
    "    # print(np_image_flat_ascii)\n",
    "\n",
    "    return np_image_flat_ascii"
   ]
  },
  {
   "cell_type": "code",
   "execution_count": 42,
   "id": "59f19304",
   "metadata": {},
   "outputs": [],
   "source": [
    "def encrypt_image(image_ascii, key, filename=IMG_FILENAME):\n",
    "    global IMG_SHAPE\n",
    "\n",
    "    encrypted_image_ascii = int(image_ascii, 2) ^ int(key, 2)\n",
    "    encrypted_image_ascii = bin(encrypted_image_ascii)[2:].zfill(\n",
    "        len(image_ascii)\n",
    "    )\n",
    "    # print(\"encrypted_input_ascii len:\", len(encrypted_input_ascii))\n",
    "    # print(encrypted_input_ascii)\n",
    "\n",
    "    encrypted_image = []\n",
    "    for i in range(0, len(encrypted_image_ascii), 8):\n",
    "        encrypted_image.append(int(encrypted_image_ascii[i : i + 8], 2))\n",
    "\n",
    "    print(\"IMG_SHAPE under encrypt_image:\", IMG_SHAPE)\n",
    "    encrypted_image_reshaped = np.reshape(encrypted_image, IMG_SHAPE)\n",
    "    print(\"encrypted_image_reshaped shape:\", encrypted_image_reshaped.shape)\n",
    "    # print(\"encrypted_image_reshaped:\", encrypted_image_reshaped)\n",
    "    plt.imshow(encrypted_image_reshaped, interpolation=\"nearest\")\n",
    "    plt.show()\n",
    "    plt.imsave(\"imgs/encrypted_\" + filename, encrypted_image_reshaped.astype(\"uint8\"))\n",
    "\n",
    "    return encrypted_image_ascii"
   ]
  },
  {
   "cell_type": "code",
   "execution_count": 43,
   "id": "6863675b",
   "metadata": {},
   "outputs": [],
   "source": [
    "def decrypt_image(encrypted_image, key, filename=IMG_FILENAME):\n",
    "    global IMG_SHAPE\n",
    "\n",
    "    decrypted_image_ascii = int(encrypted_image, 2) ^ int(key, 2)\n",
    "    decrypted_image_ascii = bin(decrypted_image_ascii)[2:].zfill(\n",
    "        len(encrypted_image)\n",
    "    )\n",
    "\n",
    "    decrypted_image = []\n",
    "    for i in range(0, len(decrypted_image_ascii), 8):\n",
    "        decrypted_image.append(int(decrypted_image_ascii[i : i + 8], 2))\n",
    "\n",
    "    print(\"IMG_SHAPE under decrypt_image:\", IMG_SHAPE)\n",
    "    decrypted_image_reshaped = np.reshape(decrypted_image, IMG_SHAPE)\n",
    "    print(\"decrypted_image_reshaped shape:\", decrypted_image_reshaped.shape)\n",
    "    # print(\"decrypted_image_reshaped:\", decrypted_image_reshaped)\n",
    "    plt.imshow(decrypted_image_reshaped, interpolation=\"nearest\")\n",
    "    plt.show()\n",
    "    plt.imsave(\"imgs/decrypted_\" + filename, decrypted_image_reshaped.astype(\"uint8\"))\n",
    "\n",
    "    return decrypted_image_reshaped"
   ]
  },
  {
   "cell_type": "code",
   "execution_count": 48,
   "id": "4b3bdcf0",
   "metadata": {},
   "outputs": [
    {
     "name": "stdout",
     "output_type": "stream",
     "text": [
      "JPEG\n",
      "(66, 50)\n",
      "RGB\n",
      "np_image shape: (50, 66, 3)\n"
     ]
    },
    {
     "data": {
      "image/png": "[encoded data removed]",
      "text/plain": [
       "<Figure size 432x288 with 1 Axes>"
      ]
     },
     "metadata": {
      "needs_background": "light"
     },
     "output_type": "display_data"
    },
    {
     "name": "stdout",
     "output_type": "stream",
     "text": [
      "np_image_flat shape: (9900,)\n",
      "IMG_SHAPE under encrypt_image: (50, 66, 3)\n",
      "encrypted_image_reshaped shape: (50, 66, 3)\n"
     ]
    },
    {
     "data": {
      "image/png": "[encoded data removed]",
      "text/plain": [
       "<Figure size 432x288 with 1 Axes>"
      ]
     },
     "metadata": {
      "needs_background": "light"
     },
     "output_type": "display_data"
    },
    {
     "name": "stdout",
     "output_type": "stream",
     "text": [
      "IMG_SHAPE under decrypt_image: (50, 66, 3)\n",
      "decrypted_image_reshaped shape: (50, 66, 3)\n"
     ]
    },
    {
     "data": {
      "image/png": "[encoded data removed]",
      "text/plain": [
       "<Figure size 432x288 with 1 Axes>"
      ]
     },
     "metadata": {
      "needs_background": "light"
     },
     "output_type": "display_data"
    }
   ],
   "source": [
    "img_ascii = image_filename_to_ascii(IMG_FILENAME)\n",
    "encrypted_img = encrypt_image(img_ascii, B92_KEY)\n",
    "decrypted_img = decrypt_image(encrypted_img, B92_KEY)"
   ]
  }
 ],
 "metadata": {
  "kernelspec": {
   "display_name": "Python 3 (ipykernel)",
   "language": "python",
   "name": "python3"
  },
  "language_info": {
   "codemirror_mode": {
    "name": "ipython",
    "version": 3
   },
   "file_extension": ".py",
   "mimetype": "text/x-python",
   "name": "python",
   "nbconvert_exporter": "python",
   "pygments_lexer": "ipython3",
   "version": "3.9.7"
  }
 },
 "nbformat": 4,
 "nbformat_minor": 5
}
