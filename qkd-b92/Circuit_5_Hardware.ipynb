{
 "cells": [
  {
   "cell_type": "code",
   "execution_count": 1,
   "id": "9e754615",
   "metadata": {},
   "outputs": [
    {
     "name": "stderr",
     "output_type": "stream",
     "text": [
      "/var/folders/2b/qgvb9m1d6hl85vbbkx3wkx8m0000gn/T/ipykernel_61325/195618774.py:5: DeprecationWarning: The qiskit.ignis package is deprecated and has been supersceded by the qiskit-experiments project. Refer to the migration guide: https://github.com/Qiskit/qiskit-ignis#migration-guide on how to migrate to the new project.\n",
      "  from qiskit.ignis.mitigation.measurement import complete_meas_cal, CompleteMeasFitter\n"
     ]
    }
   ],
   "source": [
    "import sys\n",
    "sys.path.append('../quackd')\n",
    "\n",
    "from distutils.command.bdist import show_formats\n",
    "import qiskit\n",
    "from qiskit import QuantumRegister, ClassicalRegister, QuantumCircuit, execute\n",
    "from quantuminspire.qiskit import QI\n",
    "from qiskit.ignis.mitigation.measurement import complete_meas_cal, CompleteMeasFitter\n",
    "from qiskit.visualization import plot_histogram \n",
    "\n",
    "from time import time\n",
    "import numpy as np\n",
    "import matplotlib.pyplot as plt\n",
    "%matplotlib inline"
   ]
  },
  {
   "cell_type": "code",
   "execution_count": 3,
   "id": "58725e86",
   "metadata": {},
   "outputs": [],
   "source": [
    "import quackd.utils as u\n",
    "u.set_qi_auth(\"../credentials/auth.json\")"
   ]
  },
  {
   "cell_type": "code",
   "execution_count": 47,
   "id": "fb332a16",
   "metadata": {},
   "outputs": [],
   "source": [
    "def create_calibration_matrix(qubits, qubit_list, backend = QI.get_backend('QX single-node simulator')):\n",
    "    \"\"\"\n",
    "    qubits [int]: number of qubits\n",
    "    qubit_list [list] = list/array of qubits indexed into the backend\n",
    "    \"\"\"\n",
    "    # create calibration circuits\n",
    "    qr = QuantumRegister(qubits)\n",
    "    meas_calibs, state_labels = complete_meas_cal(qubit_list=qubit_list, qr=qr, circlabel=\"cal\")\n",
    "    # create calibration matrix by running calibration\n",
    "    #backend = QI.get_backend('QX single-node simulator') # replace 'with Starmon-5' later\n",
    "    job = qiskit.execute(meas_calibs, backend=backend, shots=1024)\n",
    "    cal_results = job.result()\n",
    "    meas_fitter = CompleteMeasFitter(cal_results, state_labels, circlabel=\"cal\")\n",
    "    return meas_fitter"
   ]
  },
  {
   "cell_type": "code",
   "execution_count": 49,
   "id": "affd7b3e",
   "metadata": {},
   "outputs": [
    {
     "name": "stdout",
     "output_type": "stream",
     "text": [
      "\n",
      "Elapsed Time: 461.3 seconds\n"
     ]
    }
   ],
   "source": [
    "start_meas_fitter_5 = time()\n",
    "\n",
    "meas_fitter_5 = [create_calibration_matrix(5, [i], backend = QI.get_backend(\"Starmon-5\")) for i in range(5)]\n",
    "\n",
    "finish_meas_fitter_5 = time()\n",
    "\n",
    "print(f\"\\nElapsed Time: {np.round(finish_meas_fitter_5 - start_meas_fitter_5, 2)} seconds\")"
   ]
  },
  {
   "cell_type": "code",
   "execution_count": 149,
   "id": "add79236",
   "metadata": {},
   "outputs": [
    {
     "name": "stdout",
     "output_type": "stream",
     "text": [
      "\n",
      "Elapsed Time: 83.99 seconds\n"
     ]
    }
   ],
   "source": [
    "start_meas_fitter_spin2 = time()\n",
    "\n",
    "meas_fitter_spin2 = [create_calibration_matrix(2, [i], backend = QI.get_backend(\"Spin-2\")) for i in range(2)]\n",
    "\n",
    "finish_meas_fitter_spin2 = time()\n",
    "\n",
    "print(f\"\\nElapsed Time: {np.round(finish_meas_fitter_spin2 - start_meas_fitter_spin2, 2)} seconds\")"
   ]
  },
  {
   "cell_type": "code",
   "execution_count": 5,
   "id": "ee56c31f",
   "metadata": {},
   "outputs": [],
   "source": [
    "def apply_measurement_error_mitigation(meas_fitter, raw_counts):\n",
    "    \"\"\"\n",
    "    meas_fitter [qiskit ignis CompleteMeasFitter object]: calibration matrix fitter\n",
    "    raw_counts [dict]: dictionary of bitstrings with respective counts\n",
    "    \"\"\"\n",
    "    # apply measurement error mitigation via calibration matrix ####\n",
    "    meas_filter = meas_fitter.filter\n",
    "    mitigated_results = meas_filter.apply(raw_counts)\n",
    "    return mitigated_results"
   ]
  },
  {
   "cell_type": "code",
   "execution_count": 6,
   "id": "673be54a",
   "metadata": {},
   "outputs": [],
   "source": [
    "basis_to_bit = {\"Z\" : \"1\", \"X\" : \"0\"}"
   ]
  },
  {
   "cell_type": "code",
   "execution_count": 138,
   "id": "3be8b2cf",
   "metadata": {},
   "outputs": [],
   "source": [
    "def build_circuit_5(alice_string, bob_bases, qi_backend, n_shots=1024, meas_err_mitig=False):\n",
    "    if len(alice_string) != len(bob_bases):\n",
    "        raise IndexError(\n",
    "            \"Length of bit string and length of bases to measure in do not match.\"\n",
    "        )\n",
    "    else:\n",
    "        length = len(alice_string)\n",
    "\n",
    "    circuits = []\n",
    "    known_indices = []\n",
    "    final_bit_string = \"\"\n",
    "\n",
    "    for index in range(0, length, 5):\n",
    "        reg_len = 5\n",
    "        if length - index < 5:\n",
    "            reg_len = length - index\n",
    "        \n",
    "        qr = QuantumRegister(reg_len)\n",
    "        circuit = QuantumCircuit(qr)\n",
    "        bits = alice_string[index : index + reg_len]\n",
    "        bases = bob_bases[index : index + reg_len]\n",
    "        # print(\"bits:\", bits)\n",
    "        # print(\"bases:\", bases)\n",
    "\n",
    "        # Step 1: Initialize qubits according to Alice's bit string\n",
    "        for r in range(reg_len):\n",
    "            bit = bits[r]\n",
    "            \n",
    "            if bit == \"0\":  # if the bit is 0\n",
    "                circuit.i(qr[r])  # we initialize the qubit in the |0> state\n",
    "            elif bit == \"1\":  # if the bit is 1\n",
    "                circuit.h(qr[r])  # we initialize the qubit in the |+> state\n",
    "\n",
    "        # Step 2: Measure qubits in Bob's chosen bases\n",
    "        for r in range(reg_len):\n",
    "            basis = bases[r]\n",
    "            \n",
    "            if basis.upper() == \"Z\":  # if Bob picks the Z basis,\n",
    "                circuit.i(qr[r])  # we stay in the Z basis\n",
    "            elif basis.upper() == \"X\":  # if Bob picks the X basis,\n",
    "                circuit.h(qr[r])  # we apply a Hadamard gate so that the measurement will be in the Z basis\n",
    "            \n",
    "        circuit.measure_all()\n",
    "        circuits.append(circuit)\n",
    "        \n",
    "    # Step 3: run the circuits on the Quantum Inspire backend and compile the results\n",
    "    qi_job = execute(circuits, backend=qi_backend, shots=n_shots)\n",
    "    qi_result = qi_job.result()\n",
    "    \n",
    "    # Step 4: collect bits based on measurement results\n",
    "    for index in range(0, length, 5):\n",
    "        reg_len = 5\n",
    "        if length - index < 5:\n",
    "            reg_len = length - index\n",
    "        \n",
    "        bases = bob_bases[index : index + reg_len]\n",
    "        bits = alice_string[index : index + reg_len]\n",
    "        circuit = circuits[index // 5]\n",
    "        histogram = qi_result.get_counts(circuit)\n",
    "        # print(histogram)\n",
    "        \n",
    "        for r in range(reg_len):\n",
    "            \n",
    "            eigvl_cnts = {\"0\" : 0, \"1\" : 0} \n",
    "            \n",
    "            for key in histogram.keys():\n",
    "                eigvl_cnts[key[reg_len - 1 - r]] += histogram[key]\n",
    "            \n",
    "            # print(eigvl_cnts)\n",
    "            all_noisy_counts.append(eigvl_cnts)\n",
    "            # apply measurement error mitigation\n",
    "            if meas_err_mitig and r < 2:\n",
    "                eigvl_cnts = apply_measurement_error_mitigation(meas_fitter_spin2[r], eigvl_cnts)\n",
    "            \n",
    "            # print(eigvl_cnts)\n",
    "            # handle cases where mitigation removes a key\n",
    "            if \"0\" not in eigvl_cnts.keys():\n",
    "                eigvl_cnts[\"0\"] = 0\n",
    "            if \"1\" not in eigvl_cnts.keys():\n",
    "                eigvl_cnts[\"1\"] = 0\n",
    "            \n",
    "            all_mitigated_counts.append(eigvl_cnts)\n",
    "            \n",
    "            if eigvl_cnts[\"1\"] >= 0.35 * n_shots:\n",
    "                # state collapses to -1 eigenvalue of the measurement basis\n",
    "                basis = bases[r]\n",
    "                bit = basis_to_bit[basis.upper()]\n",
    "                # this index with eigvl = -1 gives a determined bit that we append to known_indices\n",
    "                known_indices.append(index + r)\n",
    "                \n",
    "            else:\n",
    "                # state collapses to +1 eigenvalue of the measurement basis\n",
    "                # or equal amount of 0 and 1 measurement results, result is indeterminate\n",
    "                bit = \"n\"  # bit is indeterminate\n",
    "\n",
    "            final_bit_string += bit\n",
    "\n",
    "    return final_bit_string, known_indices, circuits"
   ]
  },
  {
   "cell_type": "code",
   "execution_count": 150,
   "id": "9a70d31b",
   "metadata": {},
   "outputs": [],
   "source": [
    "def build_circuit_n(alice_string, bob_bases, qi_backend, n_shots=1024, meas_err_mitig=False, meas_fitter=meas_fitter_spin2, n=2):\n",
    "    if len(alice_string) != len(bob_bases):\n",
    "        raise IndexError(\n",
    "            \"Length of bit string and length of bases to measure in do not match.\"\n",
    "        )\n",
    "    else:\n",
    "        length = len(alice_string)\n",
    "\n",
    "    circuits = []\n",
    "    known_indices = []\n",
    "    final_bit_string = \"\"\n",
    "\n",
    "    for index in range(0, length, n):\n",
    "        reg_len = n\n",
    "        if length - index < n:\n",
    "            reg_len = length - index\n",
    "        \n",
    "        qr = QuantumRegister(reg_len)\n",
    "        circuit = QuantumCircuit(qr)\n",
    "        bits = alice_string[index : index + reg_len]\n",
    "        bases = bob_bases[index : index + reg_len]\n",
    "        # print(\"bits:\", bits)\n",
    "        # print(\"bases:\", bases)\n",
    "\n",
    "        # Step 1: Initialize qubits according to Alice's bit string\n",
    "        for r in range(reg_len):\n",
    "            bit = bits[r]\n",
    "            \n",
    "            if bit == \"0\":  # if the bit is 0\n",
    "                circuit.i(qr[r])  # we initialize the qubit in the |0> state\n",
    "            elif bit == \"1\":  # if the bit is 1\n",
    "                circuit.h(qr[r])  # we initialize the qubit in the |+> state\n",
    "\n",
    "        # Step 2: Measure qubits in Bob's chosen bases\n",
    "        for r in range(reg_len):\n",
    "            basis = bases[r]\n",
    "            \n",
    "            if basis.upper() == \"Z\":  # if Bob picks the Z basis,\n",
    "                circuit.i(qr[r])  # we stay in the Z basis\n",
    "            elif basis.upper() == \"X\":  # if Bob picks the X basis,\n",
    "                circuit.h(qr[r])  # we apply a Hadamard gate so that the measurement will be in the Z basis\n",
    "            \n",
    "        circuit.measure_all()\n",
    "        circuits.append(circuit)\n",
    "        \n",
    "    # Step 3: run the circuits on the Quantum Inspire backend and compile the results\n",
    "    qi_job = execute(circuits, backend=qi_backend, shots=n_shots)\n",
    "    qi_result = qi_job.result()\n",
    "    \n",
    "    # Step 4: collect bits based on measurement results\n",
    "    for index in range(0, length, n):\n",
    "        reg_len = n\n",
    "        if length - index < n:\n",
    "            reg_len = length - index\n",
    "        \n",
    "        bases = bob_bases[index : index + reg_len]\n",
    "        bits = alice_string[index : index + reg_len]\n",
    "        circuit = circuits[index // n]\n",
    "        histogram = qi_result.get_counts(circuit)\n",
    "        # print(histogram)\n",
    "        \n",
    "        for r in range(reg_len):\n",
    "            \n",
    "            eigvl_cnts = {\"0\" : 0, \"1\" : 0} \n",
    "            \n",
    "            for key in histogram.keys():\n",
    "                eigvl_cnts[key[reg_len - 1 - r]] += histogram[key]\n",
    "            \n",
    "            # print(eigvl_cnts)\n",
    "            all_noisy_counts.append(eigvl_cnts)\n",
    "            # apply measurement error mitigation\n",
    "            if meas_err_mitig:\n",
    "                eigvl_cnts = apply_measurement_error_mitigation(meas_fitter[r], eigvl_cnts)\n",
    "            \n",
    "            # print(eigvl_cnts)\n",
    "            # handle cases where mitigation removes a key\n",
    "            if \"0\" not in eigvl_cnts.keys():\n",
    "                eigvl_cnts[\"0\"] = 0\n",
    "            if \"1\" not in eigvl_cnts.keys():\n",
    "                eigvl_cnts[\"1\"] = 0\n",
    "            \n",
    "            all_mitigated_counts.append(eigvl_cnts)\n",
    "            \n",
    "            if eigvl_cnts[\"1\"] >= 0.35 * n_shots:\n",
    "                # state collapses to -1 eigenvalue of the measurement basis\n",
    "                basis = bases[r]\n",
    "                bit = basis_to_bit[basis.upper()]\n",
    "                # this index with eigvl = -1 gives a determined bit that we append to known_indices\n",
    "                known_indices.append(index + r)\n",
    "                \n",
    "            else:\n",
    "                # state collapses to +1 eigenvalue of the measurement basis\n",
    "                # or equal amount of 0 and 1 measurement results, result is indeterminate\n",
    "                bit = \"n\"  # bit is indeterminate\n",
    "\n",
    "            final_bit_string += bit\n",
    "\n",
    "    return final_bit_string, known_indices, circuits"
   ]
  },
  {
   "cell_type": "code",
   "execution_count": 7,
   "id": "f4cd44c3",
   "metadata": {},
   "outputs": [],
   "source": [
    "def get_secure_key_alice(alice_string, known_indices):\n",
    "    secure_key = \"\"\n",
    "    for index in known_indices:\n",
    "        bit = alice_string[index]\n",
    "        secure_key += bit\n",
    "    return secure_key\n",
    "\n",
    "def get_secure_key_bob(final_bit_string, known_indices):\n",
    "    secure_key = \"\"\n",
    "    for index in known_indices:\n",
    "        bit = final_bit_string[index]\n",
    "        secure_key += bit\n",
    "    return secure_key"
   ]
  },
  {
   "cell_type": "code",
   "execution_count": 139,
   "id": "0890d3fa",
   "metadata": {
    "scrolled": true
   },
   "outputs": [
    {
     "name": "stdout",
     "output_type": "stream",
     "text": [
      "0 0 1 0 0 0 0 0 1 1 1 1 0 0 0 1 1 1 0 1\n",
      "X Z X X X X Z Z X Z Z X Z X X X X Z Z X\n",
      "0 0 1 0 0 0 0 0 1 1 1 1 0 0 0 1 1 1 0 1\n",
      "X Z X X X X Z Z X Z Z X Z X X X X Z Z X\n",
      "0 n n 0 0 0 n n n 1 1 n n 0 0 n n 1 n n\n",
      "\n",
      "Elapsed Time: 125.46 seconds\n"
     ]
    }
   ],
   "source": [
    "# QI.get_backend(\"Starmon-5\")\n",
    "# QI.get_backend(\"QX single-node simulator\")\n",
    "all_noisy_counts = []\n",
    "all_mitigated_counts = []\n",
    "N_5 = 20\n",
    "\n",
    "initial_bit_string_5 = np.random.choice([\"0\", \"1\"], N_5)\n",
    "bases_5 = np.random.choice([\"X\", \"Z\"], N_5)\n",
    "\n",
    "print(\" \".join(initial_bit_string_5))\n",
    "print(\" \".join(bases_5))\n",
    "\n",
    "start_5 = time()\n",
    "\n",
    "final_bit_string_5, known_indices_5, circuits_5 = build_circuit_5(\n",
    "    initial_bit_string_5,\n",
    "    bases_5,\n",
    "    QI.get_backend(\"Starmon-5\"),\n",
    "    n_shots=1000,\n",
    "    meas_err_mitig=True,\n",
    ")\n",
    "\n",
    "finish_5 = time()\n",
    "\n",
    "print(\" \".join(initial_bit_string_5))\n",
    "print(\" \".join(bases_5))\n",
    "print(\" \".join(final_bit_string_5))\n",
    "\n",
    "print(f\"\\nElapsed Time: {np.round(finish_5 - start_5, 2)} seconds\")"
   ]
  },
  {
   "cell_type": "code",
   "execution_count": 191,
   "id": "95b5ea0a",
   "metadata": {
    "scrolled": true
   },
   "outputs": [
    {
     "name": "stdout",
     "output_type": "stream",
     "text": [
      "1 0 0 0 0 0 1 0 1 0 1 1 1 0 0 1 1 1 0 1\n",
      "X Z Z Z Z Z Z Z Z Z X X Z Z Z Z Z X X X\n",
      "1 0 0 0 0 0 1 0 1 0 1 1 1 0 0 1 1 1 0 1\n",
      "X Z Z Z Z Z Z Z Z Z X X Z Z Z Z Z X X X\n",
      "n n n n n n 1 n 1 n n n 1 n n 1 1 n 0 n\n",
      "\n",
      "Elapsed Time: 207.53 seconds\n"
     ]
    }
   ],
   "source": [
    "# QI.get_backend(\"Starmon-5\")\n",
    "# QI.get_backend(\"QX single-node simulator\")\n",
    "# QI.get_backend(\"Spin-2\")\n",
    "all_noisy_counts = []\n",
    "all_mitigated_counts = []\n",
    "N_2 = 20\n",
    "\n",
    "initial_bit_string_2 = np.random.choice([\"0\", \"1\"], N_2)\n",
    "bases_2 = np.random.choice([\"X\", \"Z\"], N_2)\n",
    "\n",
    "print(\" \".join(initial_bit_string_2))\n",
    "print(\" \".join(bases_2))\n",
    "\n",
    "start_2 = time()\n",
    "\n",
    "final_bit_string_2, known_indices_2, circuits_2 = build_circuit_n(\n",
    "    initial_bit_string_2,\n",
    "    bases_2,\n",
    "    QI.get_backend(\"Spin-2\"),\n",
    "    n_shots=1000,\n",
    "    meas_err_mitig=True,\n",
    ")\n",
    "\n",
    "finish_2 = time()\n",
    "\n",
    "print(\" \".join(initial_bit_string_2))\n",
    "print(\" \".join(bases_2))\n",
    "print(\" \".join(final_bit_string_2))\n",
    "\n",
    "print(f\"\\nElapsed Time: {np.round(finish_2 - start_2, 2)} seconds\")"
   ]
  },
  {
   "cell_type": "code",
   "execution_count": 216,
   "id": "79a110bd",
   "metadata": {},
   "outputs": [
    {
     "data": {
      "text/plain": [
       "array([[1014.61333333],\n",
       "       [ -14.61333333]])"
      ]
     },
     "execution_count": 216,
     "metadata": {},
     "output_type": "execute_result"
    }
   ],
   "source": [
    "np.linalg.inv(meas_fitter_spin2_5[1].cal_matrix) @ [[653], [347]]"
   ]
  },
  {
   "cell_type": "code",
   "execution_count": 207,
   "id": "51dba118",
   "metadata": {},
   "outputs": [
    {
     "data": {
      "text/plain": [
       "array([[0.81835938, 0.28125   ],\n",
       "       [0.18164062, 0.71875   ]])"
      ]
     },
     "execution_count": 207,
     "metadata": {},
     "output_type": "execute_result"
    }
   ],
   "source": [
    "meas_fitter_spin2_5[0].cal_matrix"
   ]
  },
  {
   "cell_type": "code",
   "execution_count": 215,
   "id": "a4106d90",
   "metadata": {},
   "outputs": [
    {
     "data": {
      "text/plain": [
       "({'0': 653, '1': 347}, {'0': 653, '1': 347})"
      ]
     },
     "execution_count": 215,
     "metadata": {},
     "output_type": "execute_result"
    }
   ],
   "source": [
    "all_noisy_counts[11]"
   ]
  },
  {
   "cell_type": "code",
   "execution_count": 214,
   "id": "771dbe87",
   "metadata": {},
   "outputs": [
    {
     "data": {
      "image/png": "[encoded data removed]",
      "text/plain": [
       "<Figure size 504x360 with 1 Axes>"
      ]
     },
     "execution_count": 214,
     "metadata": {},
     "output_type": "execute_result"
    }
   ],
   "source": [
    "i = 11\n",
    "plot_histogram([all_noisy_counts[i], all_mitigated_counts[i]], legend=['noisy', 'mitigated'])"
   ]
  },
  {
   "cell_type": "code",
   "execution_count": 233,
   "id": "1bdd9b01",
   "metadata": {
    "scrolled": true
   },
   "outputs": [
    {
     "name": "stdout",
     "output_type": "stream",
     "text": [
      "1 1 1 0 0 1 0 0 1 0 1 1 0 1 0 1 1 0 1 1 0 0 1 1 0 1 0 1 0 0 0 0 1 0 0 0 0 1 0 1 0 0 0 1 0 0 0 1 0 0 0 0 1 1 0 1 0 1 1 0 1 0 1 1 0 0 0 0 0 0 1 0 1 0 0 1 1 0 0 0 0 0 0 1 0 0 1 1 1 0 1 0 1 0 1 0 1 1 0 0 0 1 0 0 1 1 0 0 0 1 1 1 1 0 0 0 1 0 0 1 1 0 0 0 1 0 0 0 1 0 0 0 0 0 1 1 0 1 1 0 1 0 1 0 1 1 0 0 0 0 1 1 1 1 1 1 0 0 1 0 1 0 0 1 0 1 0 0 1 0 1 0 1 0 0 1 1 0 1 1 1 0 1 0 0 1 0 0 0 1 1 1 1 1 0 0 0 0 1 1\n",
      "X Z X Z Z Z X Z Z X Z X X X Z X X Z Z Z X Z Z Z Z X X X Z X Z X Z X X Z X Z X X X Z Z X Z X X X Z X Z X Z Z Z Z Z Z X X Z X Z Z Z Z Z X X X X Z Z X X X X X X X Z Z X X X Z Z Z X X Z Z Z X Z Z Z X X Z Z Z X Z Z Z Z Z Z Z Z X X Z X X X X X Z Z X Z Z Z X Z X X X X Z Z Z Z Z Z X Z Z X Z Z Z X X Z Z X X Z Z X X X Z X X Z Z X Z Z Z X X Z Z Z Z Z X X Z X Z Z Z Z X X X X Z Z X Z Z X X X X Z Z X Z X Z X X\n"
     ]
    },
    {
     "ename": "ApiError",
     "evalue": "Job with name circuit-10370 not created: <Error: 403 Forbidden>\n    detail: \"You already have 20 jobs queued on this backend. Please wait for those jobs to finish or cancel a job.\"",
     "output_type": "error",
     "traceback": [
      "\u001b[0;31m---------------------------------------------------------------------------\u001b[0m",
      "\u001b[0;31mErrorMessage\u001b[0m                              Traceback (most recent call last)",
      "\u001b[0;32m/usr/local/anaconda3/envs/iquhack/lib/python3.9/site-packages/quantuminspire/api.py\u001b[0m in \u001b[0;36m_create_job\u001b[0;34m(self, name, asset, number_of_shots, backend_type, full_state_projection, user_data)\u001b[0m\n\u001b[1;32m    512\u001b[0m         \u001b[0;32mtry\u001b[0m\u001b[0;34m:\u001b[0m\u001b[0;34m\u001b[0m\u001b[0;34m\u001b[0m\u001b[0m\n\u001b[0;32m--> 513\u001b[0;31m             \u001b[0;32mreturn\u001b[0m \u001b[0mdict\u001b[0m\u001b[0;34m(\u001b[0m\u001b[0mself\u001b[0m\u001b[0;34m.\u001b[0m\u001b[0m_action\u001b[0m\u001b[0;34m(\u001b[0m\u001b[0;34m[\u001b[0m\u001b[0;34m'jobs'\u001b[0m\u001b[0;34m,\u001b[0m \u001b[0;34m'create'\u001b[0m\u001b[0;34m]\u001b[0m\u001b[0;34m,\u001b[0m \u001b[0mparams\u001b[0m\u001b[0;34m=\u001b[0m\u001b[0mpayload\u001b[0m\u001b[0;34m)\u001b[0m\u001b[0;34m)\u001b[0m\u001b[0;34m\u001b[0m\u001b[0;34m\u001b[0m\u001b[0m\n\u001b[0m\u001b[1;32m    514\u001b[0m         \u001b[0;32mexcept\u001b[0m \u001b[0;34m(\u001b[0m\u001b[0mCoreAPIException\u001b[0m\u001b[0;34m,\u001b[0m \u001b[0mTypeError\u001b[0m\u001b[0;34m,\u001b[0m \u001b[0mValueError\u001b[0m\u001b[0;34m)\u001b[0m \u001b[0;32mas\u001b[0m \u001b[0merr_msg\u001b[0m\u001b[0;34m:\u001b[0m\u001b[0;34m\u001b[0m\u001b[0;34m\u001b[0m\u001b[0m\n",
      "\u001b[0;32m/usr/local/anaconda3/envs/iquhack/lib/python3.9/site-packages/quantuminspire/api.py\u001b[0m in \u001b[0;36m_action\u001b[0;34m(self, action, params)\u001b[0m\n\u001b[1;32m    156\u001b[0m         \"\"\"\n\u001b[0;32m--> 157\u001b[0;31m         \u001b[0;32mreturn\u001b[0m \u001b[0mself\u001b[0m\u001b[0;34m.\u001b[0m\u001b[0m__client\u001b[0m\u001b[0;34m.\u001b[0m\u001b[0maction\u001b[0m\u001b[0;34m(\u001b[0m\u001b[0mself\u001b[0m\u001b[0;34m.\u001b[0m\u001b[0mdocument\u001b[0m\u001b[0;34m,\u001b[0m \u001b[0maction\u001b[0m\u001b[0;34m,\u001b[0m \u001b[0mparams\u001b[0m\u001b[0;34m=\u001b[0m\u001b[0mparams\u001b[0m\u001b[0;34m)\u001b[0m\u001b[0;34m\u001b[0m\u001b[0;34m\u001b[0m\u001b[0m\n\u001b[0m\u001b[1;32m    158\u001b[0m \u001b[0;34m\u001b[0m\u001b[0m\n",
      "\u001b[0;32m/usr/local/anaconda3/envs/iquhack/lib/python3.9/site-packages/coreapi/client.py\u001b[0m in \u001b[0;36maction\u001b[0;34m(self, document, keys, params, validate, overrides, action, encoding, transform)\u001b[0m\n\u001b[1;32m    177\u001b[0m         \u001b[0mtransport\u001b[0m \u001b[0;34m=\u001b[0m \u001b[0mdetermine_transport\u001b[0m\u001b[0;34m(\u001b[0m\u001b[0mself\u001b[0m\u001b[0;34m.\u001b[0m\u001b[0mtransports\u001b[0m\u001b[0;34m,\u001b[0m \u001b[0mlink\u001b[0m\u001b[0;34m.\u001b[0m\u001b[0murl\u001b[0m\u001b[0;34m)\u001b[0m\u001b[0;34m\u001b[0m\u001b[0;34m\u001b[0m\u001b[0m\n\u001b[0;32m--> 178\u001b[0;31m         \u001b[0;32mreturn\u001b[0m \u001b[0mtransport\u001b[0m\u001b[0;34m.\u001b[0m\u001b[0mtransition\u001b[0m\u001b[0;34m(\u001b[0m\u001b[0mlink\u001b[0m\u001b[0;34m,\u001b[0m \u001b[0mself\u001b[0m\u001b[0;34m.\u001b[0m\u001b[0mdecoders\u001b[0m\u001b[0;34m,\u001b[0m \u001b[0mparams\u001b[0m\u001b[0;34m=\u001b[0m\u001b[0mparams\u001b[0m\u001b[0;34m,\u001b[0m \u001b[0mlink_ancestors\u001b[0m\u001b[0;34m=\u001b[0m\u001b[0mlink_ancestors\u001b[0m\u001b[0;34m)\u001b[0m\u001b[0;34m\u001b[0m\u001b[0;34m\u001b[0m\u001b[0m\n\u001b[0m",
      "\u001b[0;32m/usr/local/anaconda3/envs/iquhack/lib/python3.9/site-packages/coreapi/transports/http.py\u001b[0m in \u001b[0;36mtransition\u001b[0;34m(self, link, decoders, params, link_ancestors, force_codec)\u001b[0m\n\u001b[1;32m    385\u001b[0m         \u001b[0;32mif\u001b[0m \u001b[0misinstance\u001b[0m\u001b[0;34m(\u001b[0m\u001b[0mresult\u001b[0m\u001b[0;34m,\u001b[0m \u001b[0mError\u001b[0m\u001b[0;34m)\u001b[0m\u001b[0;34m:\u001b[0m\u001b[0;34m\u001b[0m\u001b[0;34m\u001b[0m\u001b[0m\n\u001b[0;32m--> 386\u001b[0;31m             \u001b[0;32mraise\u001b[0m \u001b[0mexceptions\u001b[0m\u001b[0;34m.\u001b[0m\u001b[0mErrorMessage\u001b[0m\u001b[0;34m(\u001b[0m\u001b[0mresult\u001b[0m\u001b[0;34m)\u001b[0m\u001b[0;34m\u001b[0m\u001b[0;34m\u001b[0m\u001b[0m\n\u001b[0m\u001b[1;32m    387\u001b[0m \u001b[0;34m\u001b[0m\u001b[0m\n",
      "\u001b[0;31mErrorMessage\u001b[0m: <Error: 403 Forbidden>\n    detail: \"You already have 20 jobs queued on this backend. Please wait for those jobs to finish or cancel a job.\"",
      "\nThe above exception was the direct cause of the following exception:\n",
      "\u001b[0;31mApiError\u001b[0m                                  Traceback (most recent call last)",
      "\u001b[0;32m/var/folders/2b/qgvb9m1d6hl85vbbkx3wkx8m0000gn/T/ipykernel_56154/375985082.py\u001b[0m in \u001b[0;36m<module>\u001b[0;34m\u001b[0m\n\u001b[1;32m     14\u001b[0m \u001b[0mstart\u001b[0m \u001b[0;34m=\u001b[0m \u001b[0mtime\u001b[0m\u001b[0;34m(\u001b[0m\u001b[0;34m)\u001b[0m\u001b[0;34m\u001b[0m\u001b[0;34m\u001b[0m\u001b[0m\n\u001b[1;32m     15\u001b[0m \u001b[0;34m\u001b[0m\u001b[0m\n\u001b[0;32m---> 16\u001b[0;31m final_bit_string, known_indices, circuits = build_circuit_n(\n\u001b[0m\u001b[1;32m     17\u001b[0m     \u001b[0minitial_bit_string\u001b[0m\u001b[0;34m,\u001b[0m\u001b[0;34m\u001b[0m\u001b[0;34m\u001b[0m\u001b[0m\n\u001b[1;32m     18\u001b[0m     \u001b[0mbases\u001b[0m\u001b[0;34m,\u001b[0m\u001b[0;34m\u001b[0m\u001b[0;34m\u001b[0m\u001b[0m\n",
      "\u001b[0;32m/var/folders/2b/qgvb9m1d6hl85vbbkx3wkx8m0000gn/T/ipykernel_56154/2470016701.py\u001b[0m in \u001b[0;36mbuild_circuit_n\u001b[0;34m(alice_string, bob_bases, qi_backend, n_shots, meas_err_mitig, meas_fitter, n)\u001b[0m\n\u001b[1;32m     45\u001b[0m \u001b[0;34m\u001b[0m\u001b[0m\n\u001b[1;32m     46\u001b[0m     \u001b[0;31m# Step 3: run the circuits on the Quantum Inspire backend and compile the results\u001b[0m\u001b[0;34m\u001b[0m\u001b[0;34m\u001b[0m\u001b[0m\n\u001b[0;32m---> 47\u001b[0;31m     \u001b[0mqi_job\u001b[0m \u001b[0;34m=\u001b[0m \u001b[0mexecute\u001b[0m\u001b[0;34m(\u001b[0m\u001b[0mcircuits\u001b[0m\u001b[0;34m,\u001b[0m \u001b[0mbackend\u001b[0m\u001b[0;34m=\u001b[0m\u001b[0mqi_backend\u001b[0m\u001b[0;34m,\u001b[0m \u001b[0mshots\u001b[0m\u001b[0;34m=\u001b[0m\u001b[0mn_shots\u001b[0m\u001b[0;34m)\u001b[0m\u001b[0;34m\u001b[0m\u001b[0;34m\u001b[0m\u001b[0m\n\u001b[0m\u001b[1;32m     48\u001b[0m     \u001b[0mqi_result\u001b[0m \u001b[0;34m=\u001b[0m \u001b[0mqi_job\u001b[0m\u001b[0;34m.\u001b[0m\u001b[0mresult\u001b[0m\u001b[0;34m(\u001b[0m\u001b[0;34m)\u001b[0m\u001b[0;34m\u001b[0m\u001b[0;34m\u001b[0m\u001b[0m\n\u001b[1;32m     49\u001b[0m \u001b[0;34m\u001b[0m\u001b[0m\n",
      "\u001b[0;32m/usr/local/anaconda3/envs/iquhack/lib/python3.9/site-packages/qiskit/execute_function.py\u001b[0m in \u001b[0;36mexecute\u001b[0;34m(experiments, backend, basis_gates, coupling_map, backend_properties, initial_layout, seed_transpiler, optimization_level, pass_manager, qobj_id, qobj_header, shots, memory, max_credits, seed_simulator, default_qubit_los, default_meas_los, qubit_lo_range, meas_lo_range, schedule_los, meas_level, meas_return, memory_slots, memory_slot_size, rep_time, rep_delay, parameter_binds, schedule_circuit, inst_map, meas_map, scheduling_method, init_qubits, **run_config)\u001b[0m\n\u001b[1;32m    391\u001b[0m             \u001b[0mrun_kwargs\u001b[0m\u001b[0;34m[\u001b[0m\u001b[0;34m\"parameter_binds\"\u001b[0m\u001b[0;34m]\u001b[0m \u001b[0;34m=\u001b[0m \u001b[0mparameter_binds\u001b[0m\u001b[0;34m\u001b[0m\u001b[0;34m\u001b[0m\u001b[0m\n\u001b[1;32m    392\u001b[0m         \u001b[0mrun_kwargs\u001b[0m\u001b[0;34m.\u001b[0m\u001b[0mupdate\u001b[0m\u001b[0;34m(\u001b[0m\u001b[0mrun_config\u001b[0m\u001b[0;34m)\u001b[0m\u001b[0;34m\u001b[0m\u001b[0;34m\u001b[0m\u001b[0m\n\u001b[0;32m--> 393\u001b[0;31m         \u001b[0mjob\u001b[0m \u001b[0;34m=\u001b[0m \u001b[0mbackend\u001b[0m\u001b[0;34m.\u001b[0m\u001b[0mrun\u001b[0m\u001b[0;34m(\u001b[0m\u001b[0mexperiments\u001b[0m\u001b[0;34m,\u001b[0m \u001b[0;34m**\u001b[0m\u001b[0mrun_kwargs\u001b[0m\u001b[0;34m)\u001b[0m\u001b[0;34m\u001b[0m\u001b[0;34m\u001b[0m\u001b[0m\n\u001b[0m\u001b[1;32m    394\u001b[0m         \u001b[0mend_time\u001b[0m \u001b[0;34m=\u001b[0m \u001b[0mtime\u001b[0m\u001b[0;34m(\u001b[0m\u001b[0;34m)\u001b[0m\u001b[0;34m\u001b[0m\u001b[0;34m\u001b[0m\u001b[0m\n\u001b[1;32m    395\u001b[0m         \u001b[0m_log_submission_time\u001b[0m\u001b[0;34m(\u001b[0m\u001b[0mstart_time\u001b[0m\u001b[0;34m,\u001b[0m \u001b[0mend_time\u001b[0m\u001b[0;34m)\u001b[0m\u001b[0;34m\u001b[0m\u001b[0;34m\u001b[0m\u001b[0m\n",
      "\u001b[0;32m/usr/local/anaconda3/envs/iquhack/lib/python3.9/site-packages/quantuminspire/qiskit/backend_qx.py\u001b[0m in \u001b[0;36mrun\u001b[0;34m(self, circuits, shots, memory, **run_config)\u001b[0m\n\u001b[1;32m    189\u001b[0m             \u001b[0;32mif\u001b[0m \u001b[0mproject\u001b[0m \u001b[0;32mis\u001b[0m \u001b[0;32mnot\u001b[0m \u001b[0;32mNone\u001b[0m\u001b[0;34m:\u001b[0m\u001b[0;34m\u001b[0m\u001b[0;34m\u001b[0m\u001b[0m\n\u001b[1;32m    190\u001b[0m                 \u001b[0mself\u001b[0m\u001b[0;34m.\u001b[0m\u001b[0m__api\u001b[0m\u001b[0;34m.\u001b[0m\u001b[0mdelete_project\u001b[0m\u001b[0;34m(\u001b[0m\u001b[0mint\u001b[0m\u001b[0;34m(\u001b[0m\u001b[0mproject\u001b[0m\u001b[0;34m[\u001b[0m\u001b[0;34m'id'\u001b[0m\u001b[0;34m]\u001b[0m\u001b[0;34m)\u001b[0m\u001b[0;34m)\u001b[0m\u001b[0;34m\u001b[0m\u001b[0;34m\u001b[0m\u001b[0m\n\u001b[0;32m--> 191\u001b[0;31m             \u001b[0;32mraise\u001b[0m \u001b[0merror\u001b[0m\u001b[0;34m\u001b[0m\u001b[0;34m\u001b[0m\u001b[0m\n\u001b[0m\u001b[1;32m    192\u001b[0m \u001b[0;34m\u001b[0m\u001b[0m\n\u001b[1;32m    193\u001b[0m         \u001b[0mjob\u001b[0m\u001b[0;34m.\u001b[0m\u001b[0mexperiments\u001b[0m \u001b[0;34m=\u001b[0m \u001b[0mexperiments\u001b[0m\u001b[0;34m\u001b[0m\u001b[0;34m\u001b[0m\u001b[0m\n",
      "\u001b[0;32m/usr/local/anaconda3/envs/iquhack/lib/python3.9/site-packages/quantuminspire/qiskit/backend_qx.py\u001b[0m in \u001b[0;36mrun\u001b[0;34m(self, circuits, shots, memory, **run_config)\u001b[0m\n\u001b[1;32m    178\u001b[0m                 \u001b[0;32mif\u001b[0m \u001b[0;32mnot\u001b[0m \u001b[0mfull_state_projection\u001b[0m\u001b[0;34m:\u001b[0m\u001b[0;34m\u001b[0m\u001b[0;34m\u001b[0m\u001b[0m\n\u001b[1;32m    179\u001b[0m                     \u001b[0mQuantumInspireBackend\u001b[0m\u001b[0;34m.\u001b[0m\u001b[0m__validate_unsupported_measurements\u001b[0m\u001b[0;34m(\u001b[0m\u001b[0mexperiment\u001b[0m\u001b[0;34m)\u001b[0m\u001b[0;34m\u001b[0m\u001b[0;34m\u001b[0m\u001b[0m\n\u001b[0;32m--> 180\u001b[0;31m                 job_for_experiment = self._submit_experiment(experiment, number_of_shots, project=project,\n\u001b[0m\u001b[1;32m    181\u001b[0m                                                              full_state_projection=full_state_projection)\n\u001b[1;32m    182\u001b[0m                 \u001b[0mjob\u001b[0m\u001b[0;34m.\u001b[0m\u001b[0madd_job\u001b[0m\u001b[0;34m(\u001b[0m\u001b[0mjob_for_experiment\u001b[0m\u001b[0;34m)\u001b[0m\u001b[0;34m\u001b[0m\u001b[0;34m\u001b[0m\u001b[0m\n",
      "\u001b[0;32m/usr/local/anaconda3/envs/iquhack/lib/python3.9/site-packages/quantuminspire/qiskit/backend_qx.py\u001b[0m in \u001b[0;36m_submit_experiment\u001b[0;34m(self, experiment, number_of_shots, project, full_state_projection)\u001b[0m\n\u001b[1;32m    253\u001b[0m         user_data = {'name': experiment.header.name, 'memory_slots': experiment.header.memory_slots,\n\u001b[1;32m    254\u001b[0m                      'creg_sizes': experiment.header.creg_sizes, 'measurements': measurements}\n\u001b[0;32m--> 255\u001b[0;31m         quantum_inspire_job = self.__api.execute_qasm_async(compiled_qasm, backend_type=self.__backend,\n\u001b[0m\u001b[1;32m    256\u001b[0m                                                             \u001b[0mnumber_of_shots\u001b[0m\u001b[0;34m=\u001b[0m\u001b[0mnumber_of_shots\u001b[0m\u001b[0;34m,\u001b[0m \u001b[0mproject\u001b[0m\u001b[0;34m=\u001b[0m\u001b[0mproject\u001b[0m\u001b[0;34m,\u001b[0m\u001b[0;34m\u001b[0m\u001b[0;34m\u001b[0m\u001b[0m\n\u001b[1;32m    257\u001b[0m                                                             \u001b[0mjob_name\u001b[0m\u001b[0;34m=\u001b[0m\u001b[0mexperiment\u001b[0m\u001b[0;34m.\u001b[0m\u001b[0mheader\u001b[0m\u001b[0;34m.\u001b[0m\u001b[0mname\u001b[0m\u001b[0;34m,\u001b[0m\u001b[0;34m\u001b[0m\u001b[0;34m\u001b[0m\u001b[0m\n",
      "\u001b[0;32m/usr/local/anaconda3/envs/iquhack/lib/python3.9/site-packages/quantuminspire/api.py\u001b[0m in \u001b[0;36mexecute_qasm_async\u001b[0;34m(self, qasm, backend_type, number_of_shots, default_number_of_shots, identifier, full_state_projection, project, job_name, user_data)\u001b[0m\n\u001b[1;32m   1019\u001b[0m         \u001b[0;32mif\u001b[0m \u001b[0mnumber_of_shots\u001b[0m \u001b[0;32mis\u001b[0m \u001b[0;32mNone\u001b[0m\u001b[0;34m:\u001b[0m\u001b[0;34m\u001b[0m\u001b[0;34m\u001b[0m\u001b[0m\n\u001b[1;32m   1020\u001b[0m             \u001b[0mnumber_of_shots\u001b[0m \u001b[0;34m=\u001b[0m \u001b[0mbackend_type\u001b[0m\u001b[0;34m[\u001b[0m\u001b[0;34m'default_number_of_shots'\u001b[0m\u001b[0;34m]\u001b[0m\u001b[0;34m\u001b[0m\u001b[0;34m\u001b[0m\u001b[0m\n\u001b[0;32m-> 1021\u001b[0;31m         job = self._create_job(job_name, asset, number_of_shots, backend_type, user_data=user_data,\n\u001b[0m\u001b[1;32m   1022\u001b[0m                                full_state_projection=full_state_projection)\n\u001b[1;32m   1023\u001b[0m \u001b[0;34m\u001b[0m\u001b[0m\n",
      "\u001b[0;32m/usr/local/anaconda3/envs/iquhack/lib/python3.9/site-packages/quantuminspire/api.py\u001b[0m in \u001b[0;36m_create_job\u001b[0;34m(self, name, asset, number_of_shots, backend_type, full_state_projection, user_data)\u001b[0m\n\u001b[1;32m    513\u001b[0m             \u001b[0;32mreturn\u001b[0m \u001b[0mdict\u001b[0m\u001b[0;34m(\u001b[0m\u001b[0mself\u001b[0m\u001b[0;34m.\u001b[0m\u001b[0m_action\u001b[0m\u001b[0;34m(\u001b[0m\u001b[0;34m[\u001b[0m\u001b[0;34m'jobs'\u001b[0m\u001b[0;34m,\u001b[0m \u001b[0;34m'create'\u001b[0m\u001b[0;34m]\u001b[0m\u001b[0;34m,\u001b[0m \u001b[0mparams\u001b[0m\u001b[0;34m=\u001b[0m\u001b[0mpayload\u001b[0m\u001b[0;34m)\u001b[0m\u001b[0;34m)\u001b[0m\u001b[0;34m\u001b[0m\u001b[0;34m\u001b[0m\u001b[0m\n\u001b[1;32m    514\u001b[0m         \u001b[0;32mexcept\u001b[0m \u001b[0;34m(\u001b[0m\u001b[0mCoreAPIException\u001b[0m\u001b[0;34m,\u001b[0m \u001b[0mTypeError\u001b[0m\u001b[0;34m,\u001b[0m \u001b[0mValueError\u001b[0m\u001b[0;34m)\u001b[0m \u001b[0;32mas\u001b[0m \u001b[0merr_msg\u001b[0m\u001b[0;34m:\u001b[0m\u001b[0;34m\u001b[0m\u001b[0;34m\u001b[0m\u001b[0m\n\u001b[0;32m--> 515\u001b[0;31m             \u001b[0;32mraise\u001b[0m \u001b[0mApiError\u001b[0m\u001b[0;34m(\u001b[0m\u001b[0;34mf'Job with name {name} not created: {err_msg}'\u001b[0m\u001b[0;34m)\u001b[0m \u001b[0;32mfrom\u001b[0m \u001b[0merr_msg\u001b[0m\u001b[0;34m\u001b[0m\u001b[0;34m\u001b[0m\u001b[0m\n\u001b[0m\u001b[1;32m    516\u001b[0m \u001b[0;34m\u001b[0m\u001b[0m\n\u001b[1;32m    517\u001b[0m     \u001b[0;31m#  results  #\u001b[0m\u001b[0;34m\u001b[0m\u001b[0;34m\u001b[0m\u001b[0m\n",
      "\u001b[0;31mApiError\u001b[0m: Job with name circuit-10370 not created: <Error: 403 Forbidden>\n    detail: \"You already have 20 jobs queued on this backend. Please wait for those jobs to finish or cancel a job.\""
     ]
    }
   ],
   "source": [
    "# QI.get_backend(\"Starmon-5\")\n",
    "# QI.get_backend(\"QX single-node simulator\")\n",
    "all_noisy_counts = []\n",
    "all_mitigated_counts = []\n",
    "\n",
    "N = 200\n",
    "\n",
    "initial_bit_string = np.random.choice([\"0\", \"1\"], N)\n",
    "bases = np.random.choice([\"X\", \"Z\"], N)\n",
    "\n",
    "print(\" \".join(initial_bit_string))\n",
    "print(\" \".join(bases))\n",
    "\n",
    "start = time()\n",
    "\n",
    "final_bit_string, known_indices, circuits = build_circuit_n(\n",
    "    initial_bit_string,\n",
    "    bases,\n",
    "    QI.get_backend(\"Starmon-5\"),\n",
    "    n_shots=1000,\n",
    "    meas_err_mitig=True,\n",
    "    meas_fitter=meas_fitter_5,\n",
    "    n=5\n",
    ")\n",
    "\n",
    "finish = time()\n",
    "\n",
    "#print(\" \".join(initial_bit_string))\n",
    "#print(\" \".join(bases))\n",
    "print(\" \".join(final_bit_string))\n",
    "\n",
    "print(f\"\\nElapsed Time: {np.round(finish - start, 2)} seconds\")"
   ]
  },
  {
   "cell_type": "code",
   "execution_count": 163,
   "id": "2100766b",
   "metadata": {},
   "outputs": [
    {
     "data": {
      "text/plain": [
       "(array([[0.81835938, 0.28125   ],\n",
       "        [0.18164062, 0.71875   ]]),\n",
       " array([[0.64550781, 0.1328125 ],\n",
       "        [0.35449219, 0.8671875 ]]))"
      ]
     },
     "execution_count": 163,
     "metadata": {},
     "output_type": "execute_result"
    }
   ],
   "source": [
    "meas_fitter_spin2_5[0].cal_matrix, meas_fitter_spin2_5[1].cal_matrix"
   ]
  },
  {
   "cell_type": "code",
   "execution_count": 190,
   "id": "c5a6a146",
   "metadata": {},
   "outputs": [
    {
     "name": "stdout",
     "output_type": "stream",
     "text": [
      "[[0.94042969 0.1015625 ]\n",
      " [0.05957031 0.8984375 ]]\n",
      "[[0.96875    0.12597656]\n",
      " [0.03125    0.87402344]]\n",
      "[[0.95703125 0.06542969]\n",
      " [0.04296875 0.93457031]]\n",
      "[[0.96875    0.17675781]\n",
      " [0.03125    0.82324219]]\n",
      "[[0.91015625 0.09179688]\n",
      " [0.08984375 0.90820312]]\n"
     ]
    }
   ],
   "source": [
    "for i in range(5):\n",
    "    print(meas_fitter_5[i].cal_matrix)"
   ]
  },
  {
   "cell_type": "code",
   "execution_count": 189,
   "id": "74ee276a",
   "metadata": {},
   "outputs": [
    {
     "data": {
      "image/png": "[encoded data removed]",
      "text/plain": [
       "<Figure size 504x360 with 1 Axes>"
      ]
     },
     "execution_count": 189,
     "metadata": {},
     "output_type": "execute_result"
    }
   ],
   "source": [
    "i = 15\n",
    "plot_histogram([all_noisy_counts[i], all_mitigated_counts[i]], legend=['noisy', 'mitigated'])"
   ]
  },
  {
   "cell_type": "code",
   "execution_count": 217,
   "id": "d71c6453",
   "metadata": {},
   "outputs": [
    {
     "name": "stdout",
     "output_type": "stream",
     "text": [
      "000011001\n",
      "000011001\n"
     ]
    }
   ],
   "source": [
    "secure_key_alice = get_secure_key_alice(initial_bit_string_5, known_indices_5)\n",
    "secure_key_bob = get_secure_key_bob(final_bit_string_5, known_indices_5)\n",
    "print(secure_key_alice)\n",
    "print(secure_key_bob)"
   ]
  },
  {
   "cell_type": "code",
   "execution_count": 218,
   "id": "7e6997b1",
   "metadata": {},
   "outputs": [],
   "source": [
    "sent_digits = list(secure_key_alice)\n",
    "corrected_digits = list(secure_key_bob)"
   ]
  },
  {
   "cell_type": "code",
   "execution_count": 219,
   "id": "ccbd5724",
   "metadata": {},
   "outputs": [],
   "source": [
    "\"\"\"\n",
    "block size k(i, Q) as a function of the iteration number i and the quantum bit error rate Q:\n",
    "k(1, Q) = 0.73 / Q\n",
    "k(i + 1, Q) = 2 * k(i, Q)\n",
    "\"\"\"\n",
    "N = len(sent_digits)\n",
    "Q = np.sum(np.array(sent_digits) != np.array(corrected_digits)) / N\n",
    "if Q == 0.:\n",
    "    Q = 0.001"
   ]
  },
  {
   "cell_type": "code",
   "execution_count": 220,
   "id": "fac6fd54",
   "metadata": {},
   "outputs": [],
   "source": [
    "#################### ------------ ####################\n",
    "#################### BINARY SPLIT ####################\n",
    "#################### ------------ ####################\n",
    "\n",
    "# count parity\n",
    "def parity(block):\n",
    "    # return np.count_nonzero(block == \"1\") % 2\n",
    "    return block.count(\"1\") % 2\n",
    "\n",
    "\n",
    "# binary split and correct odd parities\n",
    "def bin_split(si = 0, fi = N, parity_cnt = 1):\n",
    "    if fi < N:\n",
    "        block_a = sent_digits[si : fi]\n",
    "        block_b = corrected_digits[si : fi]\n",
    "    else:\n",
    "        block_a = sent_digits[si : N - 1] + [sent_digits[N - 1]]\n",
    "        block_b = corrected_digits[si : N - 1] + [corrected_digits[N - 1]]\n",
    "\n",
    "    # print(parity_cnt)\n",
    "    # print(block_a)\n",
    "    # print(block_b)\n",
    "    if parity(block_a) != parity(block_b):\n",
    "        if fi - si == 1:\n",
    "            # \"0\" -> \"1\" and \"1\" -> \"0\"\n",
    "            corrected_digits[si] = str(1 - int(corrected_digits[si]))\n",
    "            return parity_cnt\n",
    "        else:\n",
    "            # right block bigger\n",
    "            mid = si + (fi - si) // 2\n",
    "            return bin_split(si, mid, parity_cnt + 1) + bin_split(mid, fi, parity_cnt + 1)\n",
    "    else:\n",
    "        return 1\n"
   ]
  },
  {
   "cell_type": "code",
   "execution_count": 221,
   "id": "4a9a8cb3",
   "metadata": {},
   "outputs": [],
   "source": [
    "#################### ------- ####################\n",
    "#################### SHUFFLE ####################\n",
    "#################### ------- ####################\n",
    "import random\n",
    "\n",
    "\n",
    "def getperm(iter_n, block):\n",
    "    random.seed(iter_n)\n",
    "    perm = list(range(len(block)))\n",
    "    random.shuffle(perm)\n",
    "    random.seed()  # optional, in order to not impact other code based on random\n",
    "    return perm\n",
    "\n",
    "\n",
    "def shuffle(iter_n, block):\n",
    "    perm = getperm(iter_n, block)\n",
    "    block[:] = [block[j] for j in perm]\n",
    "\n",
    "\n",
    "def unshuffle(iter_n, block):\n",
    "    perm = getperm(iter_n, block)\n",
    "    res = [None] * len(block)\n",
    "    for i, j in enumerate(perm):\n",
    "        res[j] = block[i]\n",
    "    block[:] = res"
   ]
  },
  {
   "cell_type": "code",
   "execution_count": 222,
   "id": "425f3a98",
   "metadata": {},
   "outputs": [],
   "source": [
    "#################### ------- ####################\n",
    "#################### CASCADE ####################\n",
    "#################### ------- ####################\n",
    "parity_checks = [0]\n",
    "block_sizes = []\n",
    "\n",
    "# shuffle, binary split blocks, unshuffle\n",
    "def cascade(iter_n):\n",
    "\n",
    "    k = min(int(0.73 / Q * 2 ** iter_n), N)\n",
    "    print(\"Block Size:\", k)\n",
    "    block_sizes.append(k)\n",
    "\n",
    "    shuffle(iter_n, sent_digits)\n",
    "    shuffle(iter_n, corrected_digits)\n",
    "\n",
    "    # binary split blocks and count parity checks\n",
    "    iter_n_parity_checks = 0\n",
    "    for i in range(0, N, k):\n",
    "        if i + k <= N:\n",
    "            iter_n_parity_checks += bin_split(i, i + k)\n",
    "        else:\n",
    "            iter_n_parity_checks += bin_split(i, N)\n",
    "\n",
    "    # print(\"Parity Checks:\", iter_n_parity_checks)\n",
    "    parity_checks.append(parity_checks[-1] + iter_n_parity_checks)\n",
    "    # print(\"Cumulative Parity Checks:\", parity_checks[-1])\n",
    "\n",
    "    unshuffle(iter_n, sent_digits)\n",
    "    unshuffle(iter_n, corrected_digits)"
   ]
  },
  {
   "cell_type": "code",
   "execution_count": 223,
   "id": "646b15fb",
   "metadata": {},
   "outputs": [
    {
     "name": "stdout",
     "output_type": "stream",
     "text": [
      "\n",
      "----------Testing Cascade 0----------\n",
      "Block Size: 9\n",
      "Error Rate: 0.0\n",
      "Parity Checks: 1\n",
      "\n",
      "----------Testing Cascade 1----------\n",
      "Block Size: 9\n",
      "Error Rate: 0.0\n",
      "Parity Checks: 2\n",
      "\n",
      "----------Testing Cascade 2----------\n",
      "Block Size: 9\n",
      "Error Rate: 0.0\n",
      "Parity Checks: 3\n",
      "\n",
      "----------Testing Cascade 3----------\n",
      "Block Size: 9\n",
      "Error Rate: 0.0\n",
      "Parity Checks: 4\n",
      "\n",
      "----------Testing Cascade 4----------\n",
      "Block Size: 9\n",
      "Error Rate: 0.0\n",
      "Parity Checks: 5\n",
      "\n",
      "----------Final Results----------\n",
      "Final Block Size: 9\n",
      "Final Error Rate: 0.0\n",
      "Final Parity Checks: 5\n",
      "Final Parity Check Rate: 0.5555555555555556\n"
     ]
    }
   ],
   "source": [
    "errors = [Q]\n",
    "for c in range(5):\n",
    "    print()\n",
    "    print(\"----------Testing Cascade \" + str(c) + \"----------\")\n",
    "    cascade(c)\n",
    "    # print(\"S:\", sent_digits)\n",
    "    # print(\"C:\", corrected_digits)\n",
    "    error = np.mean(np.array(sent_digits) != np.array(corrected_digits))\n",
    "    print(\"Error Rate:\", error)\n",
    "    print(\"Parity Checks:\", parity_checks[-1])\n",
    "    errors.append(error)\n",
    "\n",
    "print(\"\\n----------Final Results----------\")\n",
    "print(\"Final Block Size:\", block_sizes[-1])\n",
    "print(\"Final Error Rate:\", errors[-1])\n",
    "print(\"Final Parity Checks:\", parity_checks[-1])\n",
    "print(\"Final Parity Check Rate:\", parity_checks[-1] / N)"
   ]
  },
  {
   "cell_type": "code",
   "execution_count": 224,
   "id": "961c65b3",
   "metadata": {},
   "outputs": [
    {
     "data": {
      "image/png": "[encoded data removed]",
      "text/plain": [
       "<Figure size 432x288 with 1 Axes>"
      ]
     },
     "metadata": {
      "needs_background": "light"
     },
     "output_type": "display_data"
    }
   ],
   "source": [
    "# Error Rate plot\n",
    "plt.title(\"Error Rate Over Iterations\")\n",
    "plt.xlabel(\"Iterations\")\n",
    "plt.ylabel(\"Error Rate\")\n",
    "plt.plot(np.arange(len(errors)), errors)\n",
    "plt.show()"
   ]
  },
  {
   "cell_type": "code",
   "execution_count": 225,
   "id": "f6c6d7b3",
   "metadata": {},
   "outputs": [
    {
     "data": {
      "image/png": "[encoded data removed]",
      "text/plain": [
       "<Figure size 432x288 with 1 Axes>"
      ]
     },
     "metadata": {
      "needs_background": "light"
     },
     "output_type": "display_data"
    }
   ],
   "source": [
    "# Block Size plot\n",
    "plt.title(\"Block Sizes Over Iterations\")\n",
    "plt.xlabel(\"Iterations\")\n",
    "plt.ylabel(\"Block Size\")\n",
    "plt.plot(np.arange(len(block_sizes)), block_sizes)\n",
    "plt.show()"
   ]
  },
  {
   "cell_type": "code",
   "execution_count": 226,
   "id": "40e7a19b",
   "metadata": {},
   "outputs": [
    {
     "data": {
      "image/png": "[encoded data removed]",
      "text/plain": [
       "<Figure size 432x288 with 1 Axes>"
      ]
     },
     "metadata": {
      "needs_background": "light"
     },
     "output_type": "display_data"
    }
   ],
   "source": [
    "# Parity Check plot\n",
    "plt.title(\"Parity Checks Over Iterations\")\n",
    "plt.xlabel(\"Iterations\")\n",
    "plt.ylabel(\"Parity Checks\")\n",
    "plt.plot(np.arange(len(parity_checks)), parity_checks)\n",
    "plt.show()"
   ]
  },
  {
   "cell_type": "code",
   "execution_count": 227,
   "id": "210a088a",
   "metadata": {},
   "outputs": [
    {
     "name": "stdout",
     "output_type": "stream",
     "text": [
      "\n",
      "----------Hashes----------\n",
      "S encoding len: 256\n",
      "C encoding len: 256\n",
      "S and C hashes match: True\n",
      "corrected_hash 0s: 133\n",
      "corrected_hash 1s: 123\n"
     ]
    }
   ],
   "source": [
    "#################### ---- ####################\n",
    "#################### HASH ####################\n",
    "#################### ---- ####################\n",
    "\n",
    "import hashlib\n",
    "\n",
    "sent_digits_bytes = bytearray(\"\".join(sent_digits), \"utf-8\")\n",
    "corrected_digits_bytes = bytearray(\"\".join(corrected_digits), \"utf-8\")\n",
    "\n",
    "\n",
    "def hextobin(h):\n",
    "    return bin(int(h, 16))[2:].zfill(len(h) * 4)\n",
    "\n",
    "\n",
    "sent_hash = \"\"\n",
    "corrected_hash = \"\"\n",
    "# for i in range(0, N, 256):\n",
    "#     if i + 256 < N:\n",
    "m_sent = hashlib.sha256()\n",
    "m_corrected = hashlib.sha256()\n",
    "\n",
    "m_sent.update(sent_digits_bytes[i : i + 256])\n",
    "m_corrected.update(corrected_digits_bytes[i : i + 256])\n",
    "\n",
    "sent_hash += hextobin(m_sent.hexdigest())\n",
    "corrected_hash += hextobin(m_corrected.hexdigest())\n",
    "\n",
    "print(\"\\n----------Hashes----------\")\n",
    "print(\"S encoding len:\", len(sent_hash))\n",
    "print(\"C encoding len:\", len(corrected_hash))\n",
    "print(\"S and C hashes match:\", sent_hash == corrected_hash)\n",
    "print(\"corrected_hash 0s:\", corrected_hash.count(\"0\"))\n",
    "print(\"corrected_hash 1s:\", corrected_hash.count(\"1\"))\n",
    "with open(\"out_hash.txt\", \"w\") as hash_outfile:\n",
    "    hash_outfile.write(corrected_hash)\n",
    "    hash_outfile.close()\n",
    "\n",
    "B92_KEY = corrected_hash"
   ]
  },
  {
   "cell_type": "code",
   "execution_count": null,
   "id": "f4e021ce",
   "metadata": {},
   "outputs": [],
   "source": []
  }
 ],
 "metadata": {
  "kernelspec": {
   "display_name": "Python 3 (ipykernel)",
   "language": "python",
   "name": "python3"
  },
  "language_info": {
   "codemirror_mode": {
    "name": "ipython",
    "version": 3
   },
   "file_extension": ".py",
   "mimetype": "text/x-python",
   "name": "python",
   "nbconvert_exporter": "python",
   "pygments_lexer": "ipython3",
   "version": "3.9.7"
  }
 },
 "nbformat": 4,
 "nbformat_minor": 5
}
