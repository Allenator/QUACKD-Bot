{
 "cells": [
  {
   "cell_type": "code",
   "execution_count": 17,
   "id": "de2dd747",
   "metadata": {},
   "outputs": [],
   "source": [
    "import qiskit\n",
    "from qiskit import QuantumRegister, ClassicalRegister, QuantumCircuit, execute\n",
    "from quantuminspire.qiskit import QI\n",
    "from qiskit.ignis.mitigation.measurement import complete_meas_cal, CompleteMeasFitter\n",
    "import utils as u"
   ]
  },
  {
   "cell_type": "code",
   "execution_count": 18,
   "id": "e1c576d7",
   "metadata": {},
   "outputs": [],
   "source": [
    "u.set_auth()"
   ]
  },
  {
   "cell_type": "code",
   "execution_count": 19,
   "id": "2f378c91",
   "metadata": {},
   "outputs": [],
   "source": [
    "def measurement_error_mitigation(qubits, qubit_list, raw_counts):\n",
    "        \"\"\"\n",
    "        qubits = INT\n",
    "        qubit_list = array\n",
    "        raw_counts = dict\n",
    "        \"\"\"\n",
    "        # create calibration circuits\n",
    "        qr = QuantumRegister(qubits)\n",
    "        meas_calibs, state_labels = complete_meas_cal(qubit_list=qubit_list, qr=qr, circlabel='cal')\n",
    "        # create calibration matrix by running calibration\n",
    "        backend = QI.get_backend('QX single-node simulator') # replace 'with Starmon-5' later\n",
    "        job = qiskit.execute(meas_calibs, backend=backend, shots=1024)\n",
    "        cal_results = job.result()\n",
    "        meas_fitter = CompleteMeasFitter(cal_results, state_labels, circlabel='cal')\n",
    "        print(meas_fitter.cal_matrix)\n",
    "        # apply measurement error mitigation via calibration matrix ####\n",
    "        meas_filter = meas_fitter.filter\n",
    "        mitigated_results = meas_filter.apply(raw_counts)\n",
    "        mitigated_counts = mitigated_results.get_counts(0)\n",
    "        return migitated_counts"
   ]
  }
 ],
 "metadata": {
  "kernelspec": {
   "display_name": "Python 3.9.7 64-bit ('iquhack': conda)",
   "language": "python",
   "name": "python397jvsc74a57bd0bef75ac96b0f468c501721a7024c4f4213579424e51b6600a2123b174b2bfd7e"
  },
  "language_info": {
   "codemirror_mode": {
    "name": "ipython",
    "version": 3
   },
   "file_extension": ".py",
   "mimetype": "text/x-python",
   "name": "python",
   "nbconvert_exporter": "python",
   "pygments_lexer": "ipython3",
   "version": "3.9.7"
  }
 },
 "nbformat": 4,
 "nbformat_minor": 5
}
