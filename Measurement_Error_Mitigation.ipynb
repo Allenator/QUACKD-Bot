{
 "cells": [
  {
   "cell_type": "code",
   "execution_count": 17,
   "id": "ec880fb7",
   "metadata": {},
   "outputs": [],
   "source": [
    "import qiskit\n",
    "from qiskit import QuantumRegister, ClassicalRegister, QuantumCircuit, execute\n",
    "from quantuminspire.qiskit import QI\n",
    "from qiskit.ignis.mitigation.measurement import complete_meas_cal, CompleteMeasFitter\n",
    "import utils as u"
   ]
  },
  {
   "cell_type": "code",
   "execution_count": 18,
   "id": "2527fdb1",
   "metadata": {},
   "outputs": [],
   "source": [
    "u.set_auth()"
   ]
  },
  {
   "cell_type": "code",
   "execution_count": 56,
   "id": "914e7d2a",
   "metadata": {},
   "outputs": [],
   "source": [
    "def create_calibration_matrix(qubits, qubit_list):\n",
    "        \"\"\"\n",
    "        qubits [int]: number of qubits\n",
    "        qubit_list [list] = list/array of qubit\n",
    "        \"\"\"\n",
    "        # create calibration circuits\n",
    "        qr = QuantumRegister(qubits)\n",
    "        meas_calibs, state_labels = complete_meas_cal(qubit_list=qubit_list, qr=qr, circlabel='cal')\n",
    "        # create calibration matrix by running calibration\n",
    "        backend = QI.get_backend('QX single-node simulator') # replace 'with Starmon-5' later\n",
    "        job = qiskit.execute(meas_calibs, backend=backend, shots=1024)\n",
    "        cal_results = job.result()\n",
    "        meas_fitter = CompleteMeasFitter(cal_results, state_labels, circlabel='cal')\n",
    "        return meas_fitter"
   ]
  },
  {
   "cell_type": "code",
   "execution_count": 57,
   "id": "d38c0014",
   "metadata": {},
   "outputs": [],
   "source": [
    "def apply_measurement_error_mitigation(meas_fitter, raw_counts):\n",
    "        \"\"\"\n",
    "        meas_fitter [qiskit ignis CompleteMeasFitter object]: calibration matrix fitter\n",
    "        raw_counts = dict of counts\n",
    "        \"\"\"\n",
    "        # apply measurement error mitigation via calibration matrix ####\n",
    "        meas_filter = meas_fitter.filter\n",
    "        mitigated_results = meas_filter.apply(raw_counts)\n",
    "        return mitigated_results"
   ]
  },
  {
   "cell_type": "code",
   "execution_count": null,
   "id": "3f056996",
   "metadata": {},
   "outputs": [],
   "source": []
  },
  {
   "cell_type": "code",
   "execution_count": null,
   "id": "7057a88f",
   "metadata": {},
   "outputs": [],
   "source": [
    "# Example"
   ]
  },
  {
   "cell_type": "code",
   "execution_count": 61,
   "id": "9604430f",
   "metadata": {},
   "outputs": [
    {
     "data": {
      "text/plain": [
       "{'0': 1024.0}"
      ]
     },
     "execution_count": 61,
     "metadata": {},
     "output_type": "execute_result"
    }
   ],
   "source": [
    "# raw results\n",
    "qc = QuantumCircuit(1,1)\n",
    "qc.measure(0,0)\n",
    "qc.draw()\n",
    "test_job = qiskit.execute(qc, backend=QI.get_backend('QX single-node simulator'), shots=1024)\n",
    "test_counts = test_job.result().get_counts()\n",
    "test_counts "
   ]
  },
  {
   "cell_type": "code",
   "execution_count": 62,
   "id": "df617b2f",
   "metadata": {},
   "outputs": [
    {
     "data": {
      "text/plain": [
       "{'0': 1023.9999999079325, '1': 9.206719772669736e-08}"
      ]
     },
     "execution_count": 62,
     "metadata": {},
     "output_type": "execute_result"
    }
   ],
   "source": [
    "# mitigated results (same as raw results if there is no noise)\n",
    "example_meas_fitter = create_calibration_matrix(1, [0])\n",
    "apply_measurement_error_mitigation(example_meas_fitter, test_counts)"
   ]
  },
  {
   "cell_type": "code",
   "execution_count": null,
   "id": "205409e7",
   "metadata": {},
   "outputs": [],
   "source": []
  }
 ],
 "metadata": {
  "kernelspec": {
   "display_name": "Python 3.9.7 64-bit ('iquhack': conda)",
   "language": "python",
   "name": "python397jvsc74a57bd0bef75ac96b0f468c501721a7024c4f4213579424e51b6600a2123b174b2bfd7e"
  },
  "language_info": {
   "codemirror_mode": {
    "name": "ipython",
    "version": 3
   },
   "file_extension": ".py",
   "mimetype": "text/x-python",
   "name": "python",
   "nbconvert_exporter": "python",
   "pygments_lexer": "ipython3",
   "version": "3.9.7"
  }
 },
 "nbformat": 4,
 "nbformat_minor": 5
}
