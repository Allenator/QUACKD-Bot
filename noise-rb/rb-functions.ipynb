{
 "cells": [
  {
   "cell_type": "code",
   "execution_count": 1,
   "id": "4fbf1ff0",
   "metadata": {},
   "outputs": [
    {
     "name": "stderr",
     "output_type": "stream",
     "text": [
      "/tmp/ipykernel_318907/756746230.py:7: DeprecationWarning: The qiskit.ignis package is deprecated and has been supersceded by the qiskit-experiments project. Refer to the migration guide: https://github.com/Qiskit/qiskit-ignis#migration-guide on how to migrate to the new project.\n",
      "  import qiskit.ignis.verification.randomized_benchmarking as rb\n"
     ]
    }
   ],
   "source": [
    "# Import general libraries (needed for functions)\n",
    "import numpy as np\n",
    "import matplotlib.pyplot as plt\n",
    "from IPython import display\n",
    "\n",
    "# Import the RB Functions\n",
    "import qiskit.ignis.verification.randomized_benchmarking as rb\n",
    "\n",
    "# Import Qiskit classes \n",
    "import qiskit\n",
    "from qiskit import assemble, transpile\n",
    "from qiskit import QuantumRegister, ClassicalRegister, QuantumCircuit, execute\n",
    "from qiskit.providers.aer.noise import NoiseModel\n",
    "from qiskit.providers.aer.noise.errors.standard_errors import depolarizing_error, thermal_relaxation_error\n",
    "\n",
    "# Import Backends\n",
    "from quantuminspire.qiskit import QI\n",
    "\n",
    "# Import utils\n",
    "import sys \n",
    "sys.path.append('..')\n",
    "import utils as u\n",
    "import time"
   ]
  },
  {
   "cell_type": "code",
   "execution_count": 2,
   "id": "00d733fa",
   "metadata": {},
   "outputs": [],
   "source": [
    "u.set_auth('../credentials/auth.json')"
   ]
  },
  {
   "cell_type": "code",
   "execution_count": 3,
   "id": "fdab89b2",
   "metadata": {},
   "outputs": [
    {
     "data": {
      "text/plain": [
       "[<QuantumInspireBackend('Spin-2')>,\n",
       " <QuantumInspireBackend('Starmon-5')>,\n",
       " <QuantumInspireBackend('QX-34-L')>,\n",
       " <QuantumInspireBackend('QX single-node simulator')>]"
      ]
     },
     "execution_count": 3,
     "metadata": {},
     "output_type": "execute_result"
    }
   ],
   "source": [
    "QI.backends()"
   ]
  },
  {
   "cell_type": "code",
   "execution_count": 12,
   "id": "851bc523",
   "metadata": {},
   "outputs": [],
   "source": [
    "# Generate single qubit RB circuits (1Q RB)\n",
    "def single_qubit_rb(qb_num, shots):\n",
    "    # number of qubits\n",
    "    nQ = 1\n",
    "    nseeds = 10\n",
    "    nCliffs = np.arange(1,200,20)\n",
    "    rb_pattern = [[qb_num]]\n",
    "    length_multiplier = [3]\n",
    "\n",
    "    rb_opts = {}\n",
    "    rb_opts['length_vector'] = nCliffs\n",
    "    rb_opts['nseeds'] = nseeds\n",
    "    rb_opts['rb_pattern'] = rb_pattern\n",
    "    rb_opts['length_multiplier'] = length_multiplier\n",
    "    rb_circs, xdata = rb.randomized_benchmarking_seq(**rb_opts)\n",
    "    \n",
    "    backend = QI.get_backend('Starmon-5')\n",
    "    basis_gates = ['rx', 'ry']\n",
    "    \n",
    "    job_list = []\n",
    "    transpile_list = []\n",
    "    \n",
    "    print(\"Qubit %d\" % qb_num) \n",
    "    for rb_seed,rb_circ_seed in enumerate(rb_circs):\n",
    "        print('Compiling seed %d'%rb_seed)\n",
    "        rb_circ_transpile = qiskit.transpile(rb_circ_seed, basis_gates=basis_gates)\n",
    "        transpile_list.append(rb_circ_transpile)\n",
    "        print('Submitting seed %d'%rb_seed)\n",
    "        job = qiskit.execute(rb_circ_transpile, shots=shots, backend=backend, backend_options={'max_parallel_experiments': 0})\n",
    "        job_list.append(job)\n",
    "    print(\"Finished Submission\")\n",
    "    \n",
    "    return job_list\n"
   ]
  },
  {
   "cell_type": "code",
   "execution_count": 9,
   "id": "9d7e4d1c",
   "metadata": {},
   "outputs": [],
   "source": [
    "# Generate single qubit RB circuits (1Q RB)\n",
    "def double_qubit_rb(qb_pair, shots):\n",
    "    # number of qubits\n",
    "    nQ = 2\n",
    "    nseeds = 10\n",
    "    nCliffs = np.arange(1,200,20)\n",
    "    rb_pattern = [[qb_pair]]\n",
    "    length_multiplier = [1]\n",
    "\n",
    "    rb_opts = {}\n",
    "    rb_opts['length_vector'] = nCliffs\n",
    "    rb_opts['nseeds'] = nseeds\n",
    "    rb_opts['rb_pattern'] = rb_pattern\n",
    "    rb_opts['length_multiplier'] = length_multiplier\n",
    "    rb_circs, xdata = rb.randomized_benchmarking_seq(**rb_opts)\n",
    "    \n",
    "    backend = QI.get_backend('Starmon-5')\n",
    "    basis_gates = ['rx', 'ry', 'cz']\n",
    "    \n",
    "    job_list = []\n",
    "    transpile_list = []\n",
    "    \n",
    "    for rb_seed,rb_circ_seed in enumerate(rb_circs):\n",
    "        print('Compiling seed %d'%rb_seed)\n",
    "        rb_circ_transpile = qiskit.transpile(rb_circ_seed, basis_gates=basis_gates)\n",
    "        transpile_list.append(rb_circ_transpile)\n",
    "        print('Submitting seed %d'%rb_seed)\n",
    "        job = qiskit.execute(rb_circ_transpile, shots=shots, backend=backend, backend_options={'max_parallel_experiments': 0})\n",
    "        job_list.append(job)\n",
    "    print(\"Finished Submission\")\n",
    "    \n",
    "    return job_list"
   ]
  },
  {
   "cell_type": "code",
   "execution_count": 14,
   "id": "860f6102",
   "metadata": {
    "scrolled": true
   },
   "outputs": [],
   "source": [
    "def plot_rb_result(result_list):\n",
    "    for seed_num, data in enumerate(result_list):#range(1,len(result_list)):\n",
    "        plt.figure(figsize=(15, 6))\n",
    "        axis = [plt.subplot(1, 2, 1), plt.subplot(1, 2, 2)]\n",
    "\n",
    "        # Add another seed to the data\n",
    "        rbfit.add_data([data])\n",
    "\n",
    "        for i in range(2):\n",
    "            pattern_ind = i\n",
    "\n",
    "            # Plot the essence by calling plot_rb_data\n",
    "            rbfit.plot_rb_data(pattern_ind, ax=axis[i], add_label=True, show_plt=False)\n",
    "\n",
    "            # Add title and label\n",
    "            axis[i].set_title('%d Qubit RB - after seed %d'%(len(rb_opts['rb_pattern'][i]), seed_num), fontsize=18)\n",
    "\n",
    "        # Display\n",
    "        display.display(plt.gcf())\n",
    "\n",
    "        # Clear display after each seed and close\n",
    "        display.clear_output(wait=True)\n",
    "        time.sleep(1.0)\n",
    "        plt.close()"
   ]
  },
  {
   "cell_type": "code",
   "execution_count": null,
   "id": "5a639cf0",
   "metadata": {},
   "outputs": [],
   "source": []
  }
 ],
 "metadata": {
  "interpreter": {
   "hash": "471f6a447ed72dc812d59da02f33881eb2da59dd70b6bb295134da9ca3677c15"
  },
  "kernelspec": {
   "display_name": "Python 3 (ipykernel)",
   "language": "python",
   "name": "python3"
  },
  "language_info": {
   "codemirror_mode": {
    "name": "ipython",
    "version": 3
   },
   "file_extension": ".py",
   "mimetype": "text/x-python",
   "name": "python",
   "nbconvert_exporter": "python",
   "pygments_lexer": "ipython3",
   "version": "3.9.7"
  }
 },
 "nbformat": 4,
 "nbformat_minor": 5
}
