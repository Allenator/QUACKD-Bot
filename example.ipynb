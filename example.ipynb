{
 "cells": [
  {
   "cell_type": "code",
   "execution_count": 2,
   "id": "ec04f284",
   "metadata": {},
   "outputs": [],
   "source": [
    "from qiskit import QuantumRegister, ClassicalRegister, QuantumCircuit, execute\n",
    "from quantuminspire.qiskit import QI\n",
    "\n",
    "import utils as u"
   ]
  },
  {
   "cell_type": "code",
   "execution_count": 5,
   "id": "c3a6f303",
   "metadata": {},
   "outputs": [],
   "source": [
    "u.set_auth()"
   ]
  },
  {
   "cell_type": "code",
   "execution_count": 6,
   "id": "d4c40295",
   "metadata": {},
   "outputs": [],
   "source": [
    "qi_backend = QI.get_backend('QX single-node simulator')"
   ]
  },
  {
   "cell_type": "code",
   "execution_count": 7,
   "id": "a1309c3b",
   "metadata": {},
   "outputs": [
    {
     "data": {
      "text/plain": [
       "<qiskit.circuit.instructionset.InstructionSet at 0x7fafc8b7fd40>"
      ]
     },
     "execution_count": 7,
     "metadata": {},
     "output_type": "execute_result"
    }
   ],
   "source": [
    "q = QuantumRegister(2)\n",
    "b = ClassicalRegister(2)\n",
    "circuit = QuantumCircuit(q, b)\n",
    "circuit.h(q[0])\n",
    "circuit.cx(q[0], q[1])\n",
    "circuit.measure(q, b)"
   ]
  },
  {
   "cell_type": "code",
   "execution_count": 8,
   "id": "96a5a482",
   "metadata": {},
   "outputs": [],
   "source": [
    "qi_job = execute(circuit, backend=qi_backend, shots=256)"
   ]
  },
  {
   "cell_type": "code",
   "execution_count": 9,
   "id": "7ef0d3aa",
   "metadata": {},
   "outputs": [],
   "source": [
    "qi_result = qi_job.result()"
   ]
  },
  {
   "cell_type": "code",
   "execution_count": 10,
   "id": "1b32d9bd",
   "metadata": {},
   "outputs": [
    {
     "name": "stdout",
     "output_type": "stream",
     "text": [
      "\n",
      "State\tCounts\n",
      "00\t125\n",
      "11\t131\n"
     ]
    },
    {
     "data": {
      "text/plain": [
       "[None, None]"
      ]
     },
     "execution_count": 10,
     "metadata": {},
     "output_type": "execute_result"
    }
   ],
   "source": [
    "histogram = qi_result.get_counts(circuit)\n",
    "print('\\nState\\tCounts')\n",
    "[print('{0}\\t{1}'.format(state, counts)) for state, counts in histogram.items()]"
   ]
  },
  {
   "cell_type": "code",
   "execution_count": null,
   "id": "30c1f050",
   "metadata": {},
   "outputs": [],
   "source": []
  }
 ],
 "metadata": {
  "kernelspec": {
   "display_name": "Python 3 (ipykernel)",
   "language": "python",
   "name": "python3"
  },
  "language_info": {
   "codemirror_mode": {
    "name": "ipython",
    "version": 3
   },
   "file_extension": ".py",
   "mimetype": "text/x-python",
   "name": "python",
   "nbconvert_exporter": "python",
   "pygments_lexer": "ipython3",
   "version": "3.9.7"
  }
 },
 "nbformat": 4,
 "nbformat_minor": 5
}
